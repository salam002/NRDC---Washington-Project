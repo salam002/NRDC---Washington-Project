{
  "nbformat": 4,
  "nbformat_minor": 0,
  "metadata": {
    "colab": {
      "name": "Washington State Updated.ipynb",
      "provenance": [],
      "collapsed_sections": []
    },
    "kernelspec": {
      "display_name": "Python 3",
      "name": "python3"
    },
    "language_info": {
      "name": "python"
    }
  },
  "cells": [
    {
      "cell_type": "code",
      "metadata": {
        "id": "RpSXspU3gppV"
      },
      "source": [
        "import pandas as pd\n",
        "import numpy as np\n",
        "import matplotlib.pyplot as plt\n",
        "import seaborn as sns"
      ],
      "execution_count": 1,
      "outputs": []
    },
    {
      "cell_type": "code",
      "metadata": {
        "colab": {
          "base_uri": "https://localhost:8080/"
        },
        "id": "3QlDqVyQgvhW",
        "outputId": "04927e63-d06b-4808-d065-7c72a73ced1f"
      },
      "source": [
        "from google.colab import drive\n",
        "drive.mount('/content/drive', force_remount=True)"
      ],
      "execution_count": 2,
      "outputs": [
        {
          "output_type": "stream",
          "text": [
            "Mounted at /content/drive\n"
          ],
          "name": "stdout"
        }
      ]
    },
    {
      "cell_type": "code",
      "metadata": {
        "id": "ysoyvP9Pg4OX"
      },
      "source": [
        "states = pd.read_csv(\"/content/drive/MyDrive/NRDC Discovery Group/ipums_2019.csv\")\n",
        "states.head(); # 547275 rows × 52 columns"
      ],
      "execution_count": 3,
      "outputs": []
    },
    {
      "cell_type": "markdown",
      "metadata": {
        "id": "Iiw_MOVwhvS4"
      },
      "source": [
        "### **Washington State**"
      ]
    },
    {
      "cell_type": "code",
      "metadata": {
        "id": "uhm-hmnshzXM",
        "colab": {
          "base_uri": "https://localhost:8080/",
          "height": 226
        },
        "outputId": "f5df6b72-79b7-48a6-e4ba-4d539d013550"
      },
      "source": [
        "washington = states[states['STATEICP'] == 73]\n",
        "washington.head() # 77879 rows × 52 columns"
      ],
      "execution_count": 5,
      "outputs": [
        {
          "output_type": "execute_result",
          "data": {
            "text/html": [
              "<div>\n",
              "<style scoped>\n",
              "    .dataframe tbody tr th:only-of-type {\n",
              "        vertical-align: middle;\n",
              "    }\n",
              "\n",
              "    .dataframe tbody tr th {\n",
              "        vertical-align: top;\n",
              "    }\n",
              "\n",
              "    .dataframe thead th {\n",
              "        text-align: right;\n",
              "    }\n",
              "</style>\n",
              "<table border=\"1\" class=\"dataframe\">\n",
              "  <thead>\n",
              "    <tr style=\"text-align: right;\">\n",
              "      <th></th>\n",
              "      <th>YEAR</th>\n",
              "      <th>SAMPLE</th>\n",
              "      <th>SERIAL</th>\n",
              "      <th>CBSERIAL</th>\n",
              "      <th>NUMPREC</th>\n",
              "      <th>HHWT</th>\n",
              "      <th>HHTYPE</th>\n",
              "      <th>CBHHTYPE</th>\n",
              "      <th>CLUSTER</th>\n",
              "      <th>REGION</th>\n",
              "      <th>STATEICP</th>\n",
              "      <th>STATEFIP</th>\n",
              "      <th>COUNTYICP</th>\n",
              "      <th>COUNTYFIP</th>\n",
              "      <th>DENSITY</th>\n",
              "      <th>METRO</th>\n",
              "      <th>METPOP10</th>\n",
              "      <th>PCTMETRO</th>\n",
              "      <th>CITY</th>\n",
              "      <th>STRATA</th>\n",
              "      <th>GQ</th>\n",
              "      <th>OWNERSHP</th>\n",
              "      <th>OWNERSHPD</th>\n",
              "      <th>MORTGAGE</th>\n",
              "      <th>RENT</th>\n",
              "      <th>RENTGRS</th>\n",
              "      <th>COSTELEC</th>\n",
              "      <th>COSTGAS</th>\n",
              "      <th>COSTWATR</th>\n",
              "      <th>COSTFUEL</th>\n",
              "      <th>HHINCOME</th>\n",
              "      <th>FOODSTMP</th>\n",
              "      <th>VACANCY</th>\n",
              "      <th>HOTWATER</th>\n",
              "      <th>FUELHEAT</th>\n",
              "      <th>NFAMS</th>\n",
              "      <th>PERNUM</th>\n",
              "      <th>PERWT</th>\n",
              "      <th>FAMUNIT</th>\n",
              "      <th>FAMSIZE</th>\n",
              "      <th>NCHILD</th>\n",
              "      <th>SEX</th>\n",
              "      <th>AGE</th>\n",
              "      <th>RACE</th>\n",
              "      <th>RACED</th>\n",
              "      <th>HISPAN</th>\n",
              "      <th>HISPAND</th>\n",
              "      <th>TRIBE</th>\n",
              "      <th>TRIBED</th>\n",
              "      <th>EDUC</th>\n",
              "      <th>EDUCD</th>\n",
              "      <th>INCTOT</th>\n",
              "    </tr>\n",
              "  </thead>\n",
              "  <tbody>\n",
              "    <tr>\n",
              "      <th>469396</th>\n",
              "      <td>2019</td>\n",
              "      <td>201901</td>\n",
              "      <td>1355967</td>\n",
              "      <td>2019010000019</td>\n",
              "      <td>1</td>\n",
              "      <td>55.0</td>\n",
              "      <td>0</td>\n",
              "      <td>0</td>\n",
              "      <td>2019013559671</td>\n",
              "      <td>42</td>\n",
              "      <td>73</td>\n",
              "      <td>53</td>\n",
              "      <td>0</td>\n",
              "      <td>0</td>\n",
              "      <td>1758.5</td>\n",
              "      <td>4</td>\n",
              "      <td>253340</td>\n",
              "      <td>100.0</td>\n",
              "      <td>0</td>\n",
              "      <td>1070253</td>\n",
              "      <td>3</td>\n",
              "      <td>0</td>\n",
              "      <td>0</td>\n",
              "      <td>0</td>\n",
              "      <td>0</td>\n",
              "      <td>0</td>\n",
              "      <td>0</td>\n",
              "      <td>0</td>\n",
              "      <td>0</td>\n",
              "      <td>0</td>\n",
              "      <td>9999999</td>\n",
              "      <td>1</td>\n",
              "      <td>0</td>\n",
              "      <td>0</td>\n",
              "      <td>0</td>\n",
              "      <td>1</td>\n",
              "      <td>1</td>\n",
              "      <td>55.0</td>\n",
              "      <td>1</td>\n",
              "      <td>1</td>\n",
              "      <td>0</td>\n",
              "      <td>1</td>\n",
              "      <td>28</td>\n",
              "      <td>1</td>\n",
              "      <td>100</td>\n",
              "      <td>1</td>\n",
              "      <td>100</td>\n",
              "      <td>0</td>\n",
              "      <td>0</td>\n",
              "      <td>3</td>\n",
              "      <td>30</td>\n",
              "      <td>0</td>\n",
              "    </tr>\n",
              "    <tr>\n",
              "      <th>469397</th>\n",
              "      <td>2019</td>\n",
              "      <td>201901</td>\n",
              "      <td>1355968</td>\n",
              "      <td>2019010000084</td>\n",
              "      <td>1</td>\n",
              "      <td>71.0</td>\n",
              "      <td>0</td>\n",
              "      <td>0</td>\n",
              "      <td>2019013559681</td>\n",
              "      <td>42</td>\n",
              "      <td>73</td>\n",
              "      <td>53</td>\n",
              "      <td>330</td>\n",
              "      <td>33</td>\n",
              "      <td>2425.1</td>\n",
              "      <td>4</td>\n",
              "      <td>3439809</td>\n",
              "      <td>100.0</td>\n",
              "      <td>0</td>\n",
              "      <td>1161453</td>\n",
              "      <td>3</td>\n",
              "      <td>0</td>\n",
              "      <td>0</td>\n",
              "      <td>0</td>\n",
              "      <td>0</td>\n",
              "      <td>0</td>\n",
              "      <td>0</td>\n",
              "      <td>0</td>\n",
              "      <td>0</td>\n",
              "      <td>0</td>\n",
              "      <td>9999999</td>\n",
              "      <td>1</td>\n",
              "      <td>0</td>\n",
              "      <td>0</td>\n",
              "      <td>0</td>\n",
              "      <td>1</td>\n",
              "      <td>1</td>\n",
              "      <td>71.0</td>\n",
              "      <td>1</td>\n",
              "      <td>1</td>\n",
              "      <td>0</td>\n",
              "      <td>1</td>\n",
              "      <td>76</td>\n",
              "      <td>1</td>\n",
              "      <td>100</td>\n",
              "      <td>0</td>\n",
              "      <td>0</td>\n",
              "      <td>0</td>\n",
              "      <td>0</td>\n",
              "      <td>11</td>\n",
              "      <td>114</td>\n",
              "      <td>26100</td>\n",
              "    </tr>\n",
              "    <tr>\n",
              "      <th>469398</th>\n",
              "      <td>2019</td>\n",
              "      <td>201901</td>\n",
              "      <td>1355969</td>\n",
              "      <td>2019010000106</td>\n",
              "      <td>1</td>\n",
              "      <td>20.0</td>\n",
              "      <td>0</td>\n",
              "      <td>0</td>\n",
              "      <td>2019013559691</td>\n",
              "      <td>42</td>\n",
              "      <td>73</td>\n",
              "      <td>53</td>\n",
              "      <td>330</td>\n",
              "      <td>33</td>\n",
              "      <td>5962.1</td>\n",
              "      <td>2</td>\n",
              "      <td>3439809</td>\n",
              "      <td>100.0</td>\n",
              "      <td>6430</td>\n",
              "      <td>1160553</td>\n",
              "      <td>4</td>\n",
              "      <td>0</td>\n",
              "      <td>0</td>\n",
              "      <td>0</td>\n",
              "      <td>0</td>\n",
              "      <td>0</td>\n",
              "      <td>0</td>\n",
              "      <td>0</td>\n",
              "      <td>0</td>\n",
              "      <td>0</td>\n",
              "      <td>9999999</td>\n",
              "      <td>2</td>\n",
              "      <td>0</td>\n",
              "      <td>0</td>\n",
              "      <td>0</td>\n",
              "      <td>1</td>\n",
              "      <td>1</td>\n",
              "      <td>20.0</td>\n",
              "      <td>1</td>\n",
              "      <td>1</td>\n",
              "      <td>0</td>\n",
              "      <td>1</td>\n",
              "      <td>50</td>\n",
              "      <td>1</td>\n",
              "      <td>100</td>\n",
              "      <td>0</td>\n",
              "      <td>0</td>\n",
              "      <td>0</td>\n",
              "      <td>0</td>\n",
              "      <td>4</td>\n",
              "      <td>40</td>\n",
              "      <td>5000</td>\n",
              "    </tr>\n",
              "    <tr>\n",
              "      <th>469399</th>\n",
              "      <td>2019</td>\n",
              "      <td>201901</td>\n",
              "      <td>1355970</td>\n",
              "      <td>2019010000152</td>\n",
              "      <td>1</td>\n",
              "      <td>9.0</td>\n",
              "      <td>0</td>\n",
              "      <td>0</td>\n",
              "      <td>2019013559701</td>\n",
              "      <td>42</td>\n",
              "      <td>73</td>\n",
              "      <td>53</td>\n",
              "      <td>0</td>\n",
              "      <td>0</td>\n",
              "      <td>237.8</td>\n",
              "      <td>1</td>\n",
              "      <td>55220</td>\n",
              "      <td>0.0</td>\n",
              "      <td>0</td>\n",
              "      <td>1190053</td>\n",
              "      <td>3</td>\n",
              "      <td>0</td>\n",
              "      <td>0</td>\n",
              "      <td>0</td>\n",
              "      <td>0</td>\n",
              "      <td>0</td>\n",
              "      <td>0</td>\n",
              "      <td>0</td>\n",
              "      <td>0</td>\n",
              "      <td>0</td>\n",
              "      <td>9999999</td>\n",
              "      <td>2</td>\n",
              "      <td>0</td>\n",
              "      <td>0</td>\n",
              "      <td>0</td>\n",
              "      <td>1</td>\n",
              "      <td>1</td>\n",
              "      <td>9.0</td>\n",
              "      <td>1</td>\n",
              "      <td>1</td>\n",
              "      <td>0</td>\n",
              "      <td>2</td>\n",
              "      <td>20</td>\n",
              "      <td>1</td>\n",
              "      <td>100</td>\n",
              "      <td>0</td>\n",
              "      <td>0</td>\n",
              "      <td>0</td>\n",
              "      <td>0</td>\n",
              "      <td>4</td>\n",
              "      <td>40</td>\n",
              "      <td>24000</td>\n",
              "    </tr>\n",
              "    <tr>\n",
              "      <th>469400</th>\n",
              "      <td>2019</td>\n",
              "      <td>201901</td>\n",
              "      <td>1355971</td>\n",
              "      <td>2019010000181</td>\n",
              "      <td>1</td>\n",
              "      <td>142.0</td>\n",
              "      <td>0</td>\n",
              "      <td>0</td>\n",
              "      <td>2019013559711</td>\n",
              "      <td>42</td>\n",
              "      <td>73</td>\n",
              "      <td>53</td>\n",
              "      <td>330</td>\n",
              "      <td>33</td>\n",
              "      <td>8784.4</td>\n",
              "      <td>2</td>\n",
              "      <td>3439809</td>\n",
              "      <td>100.0</td>\n",
              "      <td>6430</td>\n",
              "      <td>1160253</td>\n",
              "      <td>4</td>\n",
              "      <td>0</td>\n",
              "      <td>0</td>\n",
              "      <td>0</td>\n",
              "      <td>0</td>\n",
              "      <td>0</td>\n",
              "      <td>0</td>\n",
              "      <td>0</td>\n",
              "      <td>0</td>\n",
              "      <td>0</td>\n",
              "      <td>9999999</td>\n",
              "      <td>1</td>\n",
              "      <td>0</td>\n",
              "      <td>0</td>\n",
              "      <td>0</td>\n",
              "      <td>1</td>\n",
              "      <td>1</td>\n",
              "      <td>142.0</td>\n",
              "      <td>1</td>\n",
              "      <td>1</td>\n",
              "      <td>0</td>\n",
              "      <td>2</td>\n",
              "      <td>18</td>\n",
              "      <td>1</td>\n",
              "      <td>100</td>\n",
              "      <td>0</td>\n",
              "      <td>0</td>\n",
              "      <td>0</td>\n",
              "      <td>0</td>\n",
              "      <td>6</td>\n",
              "      <td>63</td>\n",
              "      <td>2400</td>\n",
              "    </tr>\n",
              "  </tbody>\n",
              "</table>\n",
              "</div>"
            ],
            "text/plain": [
              "        YEAR  SAMPLE   SERIAL       CBSERIAL  ...  TRIBED  EDUC  EDUCD  INCTOT\n",
              "469396  2019  201901  1355967  2019010000019  ...       0     3     30       0\n",
              "469397  2019  201901  1355968  2019010000084  ...       0    11    114   26100\n",
              "469398  2019  201901  1355969  2019010000106  ...       0     4     40    5000\n",
              "469399  2019  201901  1355970  2019010000152  ...       0     4     40   24000\n",
              "469400  2019  201901  1355971  2019010000181  ...       0     6     63    2400\n",
              "\n",
              "[5 rows x 52 columns]"
            ]
          },
          "metadata": {
            "tags": []
          },
          "execution_count": 5
        }
      ]
    },
    {
      "cell_type": "code",
      "metadata": {
        "id": "cKikq6okiQtV"
      },
      "source": [
        "washington.isna().sum();"
      ],
      "execution_count": null,
      "outputs": []
    },
    {
      "cell_type": "code",
      "metadata": {
        "id": "1PwAypkqb0iv"
      },
      "source": [
        "# this will show how many counties the state, from the entire dataset, is representing (line after puts it into a dataframe)\n",
        "washington['COUNTYICP'].unique()\n",
        "\n",
        "# new dataframe for unique ICPs\n",
        "uniqueicps = pd.DataFrame(data = washington['COUNTYICP'].unique(), index=None, columns=[\"COUNTYICP\"])\n",
        "\n",
        "# manually searched county names (put into list and add as column)\n",
        "uniqueicps['County Names'] = [\"N/A\", \"King\", \"Spokane\", \"Pierce\", \"Clark\", \"Snohomish\", \"Kitsap\", \"Yakima\", \"Thurston\", \"Whatcom\"]\n",
        "\n",
        "# merging washington dataframe with uniqueicps dataframe\n",
        "matched_counties = pd.merge(\n",
        "\twashington,\n",
        "\tuniqueicps,\n",
        "\ton=\"COUNTYICP\")\n",
        "\n",
        "# this ensures these columns will be next to each other \n",
        "matched_counties['COUNTYICP'], matched_counties['County Names'] = matched_counties.pop('COUNTYICP'), matched_counties.pop('County Names') \n",
        "\n",
        "# for climate zones (I just looked up a map and matched counties accordingly)\n",
        "climate_zones = pd.DataFrame(data = matched_counties['County Names'].unique(), index=None, columns=[\"County Names\"])\n",
        "climate_zones['Climate Zones'] = [\"N/A\", \"Northwest\", \"Eastern\", \"Olympic\", \"Southwest\", \n",
        "                                  \"Northwest\", \"Olympic\", \"South Central\", \"Olympic\", \"Northwest\"]\n",
        "\n",
        "# creating new set \n",
        "filtered_washington = pd.merge(matched_counties, climate_zones, on = 'County Names')\n",
        "\n",
        "# this ensures these columns will be next to each other \n",
        "filtered_washington['County Names'], filtered_washington['Climate Zones'] = filtered_washington.pop('County Names'), filtered_washington.pop('Climate Zones')\n",
        "\n",
        "# move columns below to the front of dataframe\n",
        "cols_to_move = ['COUNTYICP', 'County Names', 'Climate Zones']\n",
        "filtered_washington = filtered_washington[cols_to_move + [col for col in filtered_washington.columns if col not in cols_to_move]] \n",
        "\n",
        "# to determine if \"OWNERSHP\" column = rented, owned, or N/A (.replace function)\n",
        "filtered_washington[\"OWNERSHP\"] = filtered_washington[\"OWNERSHP\"].replace({1: 'Owned', 2: 'Rented', 0: 'N/A'})\n",
        "\n",
        "# reassess METRO values\n",
        "\n",
        "filtered_washington[\"METRO\"] = filtered_washington[\"METRO\"].replace({3:2, 4:2}).astype(object)\n",
        "  # 0 = not determinable\n",
        "  # 1 = not in METRO area\n",
        "  # 2 = in METRO area"
      ],
      "execution_count": null,
      "outputs": []
    },
    {
      "cell_type": "code",
      "metadata": {
        "colab": {
          "base_uri": "https://localhost:8080/",
          "height": 258
        },
        "id": "rsRQ2yKN3_TT",
        "outputId": "1a0914ca-776a-44b9-f0fb-43b55b4a9210"
      },
      "source": [
        "# renaming columns \n",
        "filtered_washington.rename(columns={\"COUNTYICP\":\"County ICPs\", \"OWNERSHP\":\"Tenure\", \n",
        "                                    \"COSTELEC\":\"Annual Electricity Costs\", \"COSTGAS\":\"Annual Gas Costs\", \n",
        "                                    \"COSTFUEL\":\"Annual Fuel Costs\", \"COSTWATR\":\"Annual Water Costs\"}, inplace = True)\n",
        "\n",
        "# removing outliers \n",
        "filtered_washington = filtered_washington[filtered_washington['HHINCOME'] < 999999]\n",
        "filtered_washington = filtered_washington[filtered_washington['HHINCOME'] >= 0]\n",
        "filtered_washington = filtered_washington[filtered_washington['Annual Fuel Costs'] < 9999]\n",
        "filtered_washington = filtered_washington[filtered_washington['Annual Gas Costs'] < 9999]\n",
        "filtered_washington = filtered_washington[filtered_washington['Annual Electricity Costs'] < 9999]\n",
        "filtered_washington = filtered_washington[filtered_washington['Annual Water Costs'] < 9999]\n",
        "filtered_washington.head() # 74462 rows × 54 columns"
      ],
      "execution_count": null,
      "outputs": [
        {
          "output_type": "execute_result",
          "data": {
            "text/html": [
              "<div>\n",
              "<style scoped>\n",
              "    .dataframe tbody tr th:only-of-type {\n",
              "        vertical-align: middle;\n",
              "    }\n",
              "\n",
              "    .dataframe tbody tr th {\n",
              "        vertical-align: top;\n",
              "    }\n",
              "\n",
              "    .dataframe thead th {\n",
              "        text-align: right;\n",
              "    }\n",
              "</style>\n",
              "<table border=\"1\" class=\"dataframe\">\n",
              "  <thead>\n",
              "    <tr style=\"text-align: right;\">\n",
              "      <th></th>\n",
              "      <th>County ICPs</th>\n",
              "      <th>County Names</th>\n",
              "      <th>Climate Zones</th>\n",
              "      <th>YEAR</th>\n",
              "      <th>SAMPLE</th>\n",
              "      <th>SERIAL</th>\n",
              "      <th>CBSERIAL</th>\n",
              "      <th>NUMPREC</th>\n",
              "      <th>HHWT</th>\n",
              "      <th>HHTYPE</th>\n",
              "      <th>CBHHTYPE</th>\n",
              "      <th>CLUSTER</th>\n",
              "      <th>REGION</th>\n",
              "      <th>STATEICP</th>\n",
              "      <th>STATEFIP</th>\n",
              "      <th>COUNTYFIP</th>\n",
              "      <th>DENSITY</th>\n",
              "      <th>METRO</th>\n",
              "      <th>METPOP10</th>\n",
              "      <th>PCTMETRO</th>\n",
              "      <th>CITY</th>\n",
              "      <th>STRATA</th>\n",
              "      <th>GQ</th>\n",
              "      <th>Tenure</th>\n",
              "      <th>OWNERSHPD</th>\n",
              "      <th>MORTGAGE</th>\n",
              "      <th>RENT</th>\n",
              "      <th>RENTGRS</th>\n",
              "      <th>Annual Electricity Costs</th>\n",
              "      <th>Annual Gas Costs</th>\n",
              "      <th>Annual Water Costs</th>\n",
              "      <th>Annual Fuel Costs</th>\n",
              "      <th>HHINCOME</th>\n",
              "      <th>FOODSTMP</th>\n",
              "      <th>VACANCY</th>\n",
              "      <th>HOTWATER</th>\n",
              "      <th>FUELHEAT</th>\n",
              "      <th>NFAMS</th>\n",
              "      <th>PERNUM</th>\n",
              "      <th>PERWT</th>\n",
              "      <th>FAMUNIT</th>\n",
              "      <th>FAMSIZE</th>\n",
              "      <th>NCHILD</th>\n",
              "      <th>SEX</th>\n",
              "      <th>AGE</th>\n",
              "      <th>RACE</th>\n",
              "      <th>RACED</th>\n",
              "      <th>HISPAN</th>\n",
              "      <th>HISPAND</th>\n",
              "      <th>TRIBE</th>\n",
              "      <th>TRIBED</th>\n",
              "      <th>EDUC</th>\n",
              "      <th>EDUCD</th>\n",
              "      <th>INCTOT</th>\n",
              "    </tr>\n",
              "  </thead>\n",
              "  <tbody>\n",
              "    <tr>\n",
              "      <th>877</th>\n",
              "      <td>0</td>\n",
              "      <td>N/A</td>\n",
              "      <td>N/A</td>\n",
              "      <td>2019</td>\n",
              "      <td>201901</td>\n",
              "      <td>1359289</td>\n",
              "      <td>2019000000012</td>\n",
              "      <td>2</td>\n",
              "      <td>71.0</td>\n",
              "      <td>1</td>\n",
              "      <td>2</td>\n",
              "      <td>2019013592891</td>\n",
              "      <td>42</td>\n",
              "      <td>73</td>\n",
              "      <td>53</td>\n",
              "      <td>0</td>\n",
              "      <td>362.4</td>\n",
              "      <td>0</td>\n",
              "      <td>71271</td>\n",
              "      <td>80.44</td>\n",
              "      <td>0</td>\n",
              "      <td>1120053</td>\n",
              "      <td>1</td>\n",
              "      <td>Owned</td>\n",
              "      <td>12</td>\n",
              "      <td>1</td>\n",
              "      <td>0</td>\n",
              "      <td>0</td>\n",
              "      <td>960</td>\n",
              "      <td>9993</td>\n",
              "      <td>900</td>\n",
              "      <td>9993</td>\n",
              "      <td>56600</td>\n",
              "      <td>1</td>\n",
              "      <td>0</td>\n",
              "      <td>4</td>\n",
              "      <td>7</td>\n",
              "      <td>1</td>\n",
              "      <td>1</td>\n",
              "      <td>71.0</td>\n",
              "      <td>1</td>\n",
              "      <td>2</td>\n",
              "      <td>0</td>\n",
              "      <td>1</td>\n",
              "      <td>79</td>\n",
              "      <td>1</td>\n",
              "      <td>100</td>\n",
              "      <td>0</td>\n",
              "      <td>0</td>\n",
              "      <td>0</td>\n",
              "      <td>0</td>\n",
              "      <td>7</td>\n",
              "      <td>71</td>\n",
              "      <td>43600</td>\n",
              "    </tr>\n",
              "    <tr>\n",
              "      <th>878</th>\n",
              "      <td>0</td>\n",
              "      <td>N/A</td>\n",
              "      <td>N/A</td>\n",
              "      <td>2019</td>\n",
              "      <td>201901</td>\n",
              "      <td>1359289</td>\n",
              "      <td>2019000000012</td>\n",
              "      <td>2</td>\n",
              "      <td>71.0</td>\n",
              "      <td>1</td>\n",
              "      <td>2</td>\n",
              "      <td>2019013592891</td>\n",
              "      <td>42</td>\n",
              "      <td>73</td>\n",
              "      <td>53</td>\n",
              "      <td>0</td>\n",
              "      <td>362.4</td>\n",
              "      <td>0</td>\n",
              "      <td>71271</td>\n",
              "      <td>80.44</td>\n",
              "      <td>0</td>\n",
              "      <td>1120053</td>\n",
              "      <td>1</td>\n",
              "      <td>Owned</td>\n",
              "      <td>12</td>\n",
              "      <td>1</td>\n",
              "      <td>0</td>\n",
              "      <td>0</td>\n",
              "      <td>960</td>\n",
              "      <td>9993</td>\n",
              "      <td>900</td>\n",
              "      <td>9993</td>\n",
              "      <td>56600</td>\n",
              "      <td>1</td>\n",
              "      <td>0</td>\n",
              "      <td>4</td>\n",
              "      <td>7</td>\n",
              "      <td>1</td>\n",
              "      <td>2</td>\n",
              "      <td>76.0</td>\n",
              "      <td>1</td>\n",
              "      <td>2</td>\n",
              "      <td>0</td>\n",
              "      <td>2</td>\n",
              "      <td>68</td>\n",
              "      <td>1</td>\n",
              "      <td>100</td>\n",
              "      <td>0</td>\n",
              "      <td>0</td>\n",
              "      <td>0</td>\n",
              "      <td>0</td>\n",
              "      <td>6</td>\n",
              "      <td>64</td>\n",
              "      <td>13000</td>\n",
              "    </tr>\n",
              "    <tr>\n",
              "      <th>879</th>\n",
              "      <td>0</td>\n",
              "      <td>N/A</td>\n",
              "      <td>N/A</td>\n",
              "      <td>2019</td>\n",
              "      <td>201901</td>\n",
              "      <td>1359291</td>\n",
              "      <td>2019000000158</td>\n",
              "      <td>1</td>\n",
              "      <td>66.0</td>\n",
              "      <td>4</td>\n",
              "      <td>9</td>\n",
              "      <td>2019013592911</td>\n",
              "      <td>42</td>\n",
              "      <td>73</td>\n",
              "      <td>53</td>\n",
              "      <td>0</td>\n",
              "      <td>448.2</td>\n",
              "      <td>0</td>\n",
              "      <td>86810</td>\n",
              "      <td>55.36</td>\n",
              "      <td>0</td>\n",
              "      <td>1020053</td>\n",
              "      <td>1</td>\n",
              "      <td>Owned</td>\n",
              "      <td>13</td>\n",
              "      <td>3</td>\n",
              "      <td>0</td>\n",
              "      <td>0</td>\n",
              "      <td>1080</td>\n",
              "      <td>9993</td>\n",
              "      <td>300</td>\n",
              "      <td>200</td>\n",
              "      <td>70000</td>\n",
              "      <td>1</td>\n",
              "      <td>0</td>\n",
              "      <td>4</td>\n",
              "      <td>4</td>\n",
              "      <td>1</td>\n",
              "      <td>1</td>\n",
              "      <td>67.0</td>\n",
              "      <td>1</td>\n",
              "      <td>1</td>\n",
              "      <td>0</td>\n",
              "      <td>1</td>\n",
              "      <td>64</td>\n",
              "      <td>1</td>\n",
              "      <td>100</td>\n",
              "      <td>0</td>\n",
              "      <td>0</td>\n",
              "      <td>0</td>\n",
              "      <td>0</td>\n",
              "      <td>8</td>\n",
              "      <td>81</td>\n",
              "      <td>70000</td>\n",
              "    </tr>\n",
              "    <tr>\n",
              "      <th>880</th>\n",
              "      <td>0</td>\n",
              "      <td>N/A</td>\n",
              "      <td>N/A</td>\n",
              "      <td>2019</td>\n",
              "      <td>201901</td>\n",
              "      <td>1359298</td>\n",
              "      <td>2019000000623</td>\n",
              "      <td>2</td>\n",
              "      <td>66.0</td>\n",
              "      <td>1</td>\n",
              "      <td>2</td>\n",
              "      <td>2019013592981</td>\n",
              "      <td>42</td>\n",
              "      <td>73</td>\n",
              "      <td>53</td>\n",
              "      <td>0</td>\n",
              "      <td>280.3</td>\n",
              "      <td>2</td>\n",
              "      <td>110884</td>\n",
              "      <td>100.00</td>\n",
              "      <td>0</td>\n",
              "      <td>1030053</td>\n",
              "      <td>1</td>\n",
              "      <td>Owned</td>\n",
              "      <td>13</td>\n",
              "      <td>3</td>\n",
              "      <td>0</td>\n",
              "      <td>0</td>\n",
              "      <td>480</td>\n",
              "      <td>9993</td>\n",
              "      <td>1100</td>\n",
              "      <td>9993</td>\n",
              "      <td>197000</td>\n",
              "      <td>1</td>\n",
              "      <td>0</td>\n",
              "      <td>4</td>\n",
              "      <td>4</td>\n",
              "      <td>1</td>\n",
              "      <td>1</td>\n",
              "      <td>67.0</td>\n",
              "      <td>1</td>\n",
              "      <td>2</td>\n",
              "      <td>0</td>\n",
              "      <td>1</td>\n",
              "      <td>69</td>\n",
              "      <td>1</td>\n",
              "      <td>100</td>\n",
              "      <td>0</td>\n",
              "      <td>0</td>\n",
              "      <td>0</td>\n",
              "      <td>0</td>\n",
              "      <td>6</td>\n",
              "      <td>63</td>\n",
              "      <td>160000</td>\n",
              "    </tr>\n",
              "    <tr>\n",
              "      <th>881</th>\n",
              "      <td>0</td>\n",
              "      <td>N/A</td>\n",
              "      <td>N/A</td>\n",
              "      <td>2019</td>\n",
              "      <td>201901</td>\n",
              "      <td>1359298</td>\n",
              "      <td>2019000000623</td>\n",
              "      <td>2</td>\n",
              "      <td>66.0</td>\n",
              "      <td>1</td>\n",
              "      <td>2</td>\n",
              "      <td>2019013592981</td>\n",
              "      <td>42</td>\n",
              "      <td>73</td>\n",
              "      <td>53</td>\n",
              "      <td>0</td>\n",
              "      <td>280.3</td>\n",
              "      <td>2</td>\n",
              "      <td>110884</td>\n",
              "      <td>100.00</td>\n",
              "      <td>0</td>\n",
              "      <td>1030053</td>\n",
              "      <td>1</td>\n",
              "      <td>Owned</td>\n",
              "      <td>13</td>\n",
              "      <td>3</td>\n",
              "      <td>0</td>\n",
              "      <td>0</td>\n",
              "      <td>480</td>\n",
              "      <td>9993</td>\n",
              "      <td>1100</td>\n",
              "      <td>9993</td>\n",
              "      <td>197000</td>\n",
              "      <td>1</td>\n",
              "      <td>0</td>\n",
              "      <td>4</td>\n",
              "      <td>4</td>\n",
              "      <td>1</td>\n",
              "      <td>2</td>\n",
              "      <td>73.0</td>\n",
              "      <td>1</td>\n",
              "      <td>2</td>\n",
              "      <td>0</td>\n",
              "      <td>2</td>\n",
              "      <td>69</td>\n",
              "      <td>1</td>\n",
              "      <td>100</td>\n",
              "      <td>0</td>\n",
              "      <td>0</td>\n",
              "      <td>0</td>\n",
              "      <td>0</td>\n",
              "      <td>6</td>\n",
              "      <td>63</td>\n",
              "      <td>37000</td>\n",
              "    </tr>\n",
              "  </tbody>\n",
              "</table>\n",
              "</div>"
            ],
            "text/plain": [
              "     County ICPs County Names Climate Zones  YEAR  ...  TRIBED  EDUC  EDUCD  INCTOT\n",
              "877            0          N/A           N/A  2019  ...       0     7     71   43600\n",
              "878            0          N/A           N/A  2019  ...       0     6     64   13000\n",
              "879            0          N/A           N/A  2019  ...       0     8     81   70000\n",
              "880            0          N/A           N/A  2019  ...       0     6     63  160000\n",
              "881            0          N/A           N/A  2019  ...       0     6     63   37000\n",
              "\n",
              "[5 rows x 54 columns]"
            ]
          },
          "metadata": {
            "tags": []
          },
          "execution_count": 7
        }
      ]
    },
    {
      "cell_type": "code",
      "metadata": {
        "colab": {
          "base_uri": "https://localhost:8080/"
        },
        "id": "zEMABFIIRcQ8",
        "outputId": "c529bfd2-e127-488d-f03f-5f63ad2cf8a2"
      },
      "source": [
        "# representative of state (Washington state population = ~7 mill)\n",
        "sum(filtered_washington['PERWT'])"
      ],
      "execution_count": null,
      "outputs": [
        {
          "output_type": "execute_result",
          "data": {
            "text/plain": [
              "7459276.0"
            ]
          },
          "metadata": {
            "tags": []
          },
          "execution_count": 8
        }
      ]
    },
    {
      "cell_type": "code",
      "metadata": {
        "colab": {
          "base_uri": "https://localhost:8080/"
        },
        "id": "W6icyHrdZ9fx",
        "outputId": "c271d4cc-a711-40d6-c17f-d57743b4c8af"
      },
      "source": [
        "filtered_washington['SERIAL'].value_counts()"
      ],
      "execution_count": null,
      "outputs": [
        {
          "output_type": "execute_result",
          "data": {
            "text/plain": [
              "1383058    20\n",
              "1361396    20\n",
              "1372436    16\n",
              "1378742    13\n",
              "1360481    13\n",
              "           ..\n",
              "1387914     1\n",
              "1387113     1\n",
              "1389162     1\n",
              "1376876     1\n",
              "1361779     1\n",
              "Name: SERIAL, Length: 30183, dtype: int64"
            ]
          },
          "metadata": {
            "tags": []
          },
          "execution_count": 9
        }
      ]
    },
    {
      "cell_type": "markdown",
      "metadata": {
        "id": "6g5o1PstBGfk"
      },
      "source": [
        "# **Tenure**"
      ]
    },
    {
      "cell_type": "code",
      "metadata": {
        "colab": {
          "base_uri": "https://localhost:8080/"
        },
        "id": "e6lubMHeZUzc",
        "outputId": "0e50d56c-42ff-46eb-f4ab-535d408cf089"
      },
      "source": [
        "# 0.729391 = Owned\n",
        "# 0.270608 = Rented\n",
        "na_tenure = filtered_washington['SERIAL'].drop_duplicates()\n",
        "na_tenure = filtered_washington['Tenure'].value_counts()\n",
        "na_tenure"
      ],
      "execution_count": null,
      "outputs": [
        {
          "output_type": "execute_result",
          "data": {
            "text/plain": [
              "Owned     54231\n",
              "Rented    20231\n",
              "Name: Tenure, dtype: int64"
            ]
          },
          "metadata": {
            "tags": []
          },
          "execution_count": 10
        }
      ]
    },
    {
      "cell_type": "code",
      "metadata": {
        "colab": {
          "base_uri": "https://localhost:8080/"
        },
        "id": "IsApbXArqVH5",
        "outputId": "233e3974-3fa4-4a3a-a8db-9bc7f033e02f"
      },
      "source": [
        "filtered_washington.shape"
      ],
      "execution_count": null,
      "outputs": [
        {
          "output_type": "execute_result",
          "data": {
            "text/plain": [
              "(74462, 54)"
            ]
          },
          "metadata": {
            "tags": []
          },
          "execution_count": 11
        }
      ]
    },
    {
      "cell_type": "code",
      "metadata": {
        "colab": {
          "base_uri": "https://localhost:8080/"
        },
        "id": "tfltZp75qYNc",
        "outputId": "60044fc3-2227-49da-e3db-5614c6d5d2c2"
      },
      "source": [
        "(20231/74462)*100"
      ],
      "execution_count": null,
      "outputs": [
        {
          "output_type": "execute_result",
          "data": {
            "text/plain": [
              "27.169562998576456"
            ]
          },
          "metadata": {
            "tags": []
          },
          "execution_count": 12
        }
      ]
    },
    {
      "cell_type": "code",
      "metadata": {
        "colab": {
          "base_uri": "https://localhost:8080/",
          "height": 295
        },
        "id": "nglPn3-KYfkR",
        "outputId": "9928bb09-ea18-4fdf-84b0-e9b313d8391a"
      },
      "source": [
        "tenure = filtered_washington.groupby('Tenure', as_index = False).size()\n",
        "sns.barplot(x = 'Tenure', y = 'size', data = tenure)\n",
        "plt.title('Owned vs Rented Properties in Washington data')\n",
        "plt.ylabel('Count');"
      ],
      "execution_count": null,
      "outputs": [
        {
          "output_type": "display_data",
          "data": {
            "image/png": "[encoded data removed]",
            "text/plain": [
              "<Figure size 432x288 with 1 Axes>"
            ]
          },
          "metadata": {
            "tags": []
          }
        }
      ]
    },
    {
      "cell_type": "code",
      "metadata": {
        "id": "XSIGTwGrYWC4"
      },
      "source": [
        ""
      ],
      "execution_count": null,
      "outputs": []
    },
    {
      "cell_type": "markdown",
      "metadata": {
        "id": "uu6Z1eDgkGvt"
      },
      "source": [
        "# **County Percentages**"
      ]
    },
    {
      "cell_type": "code",
      "metadata": {
        "colab": {
          "base_uri": "https://localhost:8080/",
          "height": 331
        },
        "id": "2vQft6TfkNBT",
        "outputId": "9c7e39f3-20bd-4637-b0de-aa0bd59313ea"
      },
      "source": [
        "# Unidentified (N/A) = 0.249630\n",
        "# Labeled = 0.750369\n",
        "washington_county_prop = pd.DataFrame(filtered_washington['County ICPs'].value_counts()/sum(filtered_washington['County ICPs']))*100\n",
        "washington_county_prop = washington_county_prop.reset_index()\n",
        "washington_county_prop = washington_county_prop.rename(columns = {\"index\": \"County ICP\", \"County ICPs\":\"Percentage\"})\n",
        "washington_county_prop['Names'] = [\"King\", \"N/A\", \"Pierce\",\"Snohomish\", \"Spokane\", \n",
        "                                  \"Clark\", \"Kitsap\", \"Thurston\", \"Yakima\", \"Whatcom\"]\n",
        "# county percentages\n",
        "plt.bar(washington_county_prop['Names'], washington_county_prop['Percentage'])\n",
        "plt.title('County Statistics')\n",
        "plt.xlabel('County Names')\n",
        "plt.ylabel('Percentage in Data')\n",
        "plt.xticks(rotation = 45)\n",
        "plt.show()"
      ],
      "execution_count": null,
      "outputs": [
        {
          "output_type": "display_data",
          "data": {
            "image/png": "[encoded data removed]",
            "text/plain": [
              "<Figure size 432x288 with 1 Axes>"
            ]
          },
          "metadata": {
            "tags": []
          }
        }
      ]
    },
    {
      "cell_type": "code",
      "metadata": {
        "colab": {
          "base_uri": "https://localhost:8080/"
        },
        "id": "TUUsY-gRB9-_",
        "outputId": "d29813fa-eca8-4ffe-fb97-62d713b20165"
      },
      "source": [
        "(filtered_washington['County Names'].value_counts() / filtered_washington.shape[0]) * 100"
      ],
      "execution_count": null,
      "outputs": [
        {
          "output_type": "execute_result",
          "data": {
            "text/plain": [
              "King         26.589401\n",
              "N/A          24.963068\n",
              "Pierce       11.474309\n",
              "Kitsap       10.393221\n",
              "Spokane       6.733636\n",
              "Clark         6.708120\n",
              "Snohomish     4.139024\n",
              "Thurston      3.405764\n",
              "Yakima        3.080766\n",
              "Whatcom       2.512691\n",
              "Name: County Names, dtype: float64"
            ]
          },
          "metadata": {
            "tags": []
          },
          "execution_count": 15
        }
      ]
    },
    {
      "cell_type": "markdown",
      "metadata": {
        "id": "LrU5JtFsjnlc"
      },
      "source": [
        "# **Metro Counts**"
      ]
    },
    {
      "cell_type": "code",
      "metadata": {
        "colab": {
          "base_uri": "https://localhost:8080/",
          "height": 390
        },
        "id": "_FMnbcjsjsqM",
        "outputId": "8374b758-ebce-43da-d4fa-eaba0cb4de60"
      },
      "source": [
        "metro = pd.DataFrame(filtered_washington.groupby(['County Names','METRO']).size())\n",
        "metro = metro.reset_index()\n",
        "metro = metro.rename(columns = {0:'Total'})\n",
        "metro = metro.pivot_table(values = 'Total', columns = 'METRO',index = 'County Names').fillna(0).astype(int)\n",
        "metro = metro.rename(columns = {0: 'Undeterminable', 1: 'Rural', 2: 'Metropolitan'})\n",
        "metro"
      ],
      "execution_count": null,
      "outputs": [
        {
          "output_type": "execute_result",
          "data": {
            "text/html": [
              "<div>\n",
              "<style scoped>\n",
              "    .dataframe tbody tr th:only-of-type {\n",
              "        vertical-align: middle;\n",
              "    }\n",
              "\n",
              "    .dataframe tbody tr th {\n",
              "        vertical-align: top;\n",
              "    }\n",
              "\n",
              "    .dataframe thead th {\n",
              "        text-align: right;\n",
              "    }\n",
              "</style>\n",
              "<table border=\"1\" class=\"dataframe\">\n",
              "  <thead>\n",
              "    <tr style=\"text-align: right;\">\n",
              "      <th>METRO</th>\n",
              "      <th>Undeterminable</th>\n",
              "      <th>Rural</th>\n",
              "      <th>Metropolitan</th>\n",
              "    </tr>\n",
              "    <tr>\n",
              "      <th>County Names</th>\n",
              "      <th></th>\n",
              "      <th></th>\n",
              "      <th></th>\n",
              "    </tr>\n",
              "  </thead>\n",
              "  <tbody>\n",
              "    <tr>\n",
              "      <th>Clark</th>\n",
              "      <td>0</td>\n",
              "      <td>0</td>\n",
              "      <td>4995</td>\n",
              "    </tr>\n",
              "    <tr>\n",
              "      <th>King</th>\n",
              "      <td>0</td>\n",
              "      <td>0</td>\n",
              "      <td>19799</td>\n",
              "    </tr>\n",
              "    <tr>\n",
              "      <th>Kitsap</th>\n",
              "      <td>0</td>\n",
              "      <td>0</td>\n",
              "      <td>7739</td>\n",
              "    </tr>\n",
              "    <tr>\n",
              "      <th>N/A</th>\n",
              "      <td>10475</td>\n",
              "      <td>3926</td>\n",
              "      <td>4187</td>\n",
              "    </tr>\n",
              "    <tr>\n",
              "      <th>Pierce</th>\n",
              "      <td>0</td>\n",
              "      <td>0</td>\n",
              "      <td>8544</td>\n",
              "    </tr>\n",
              "    <tr>\n",
              "      <th>Snohomish</th>\n",
              "      <td>0</td>\n",
              "      <td>0</td>\n",
              "      <td>3082</td>\n",
              "    </tr>\n",
              "    <tr>\n",
              "      <th>Spokane</th>\n",
              "      <td>0</td>\n",
              "      <td>0</td>\n",
              "      <td>5014</td>\n",
              "    </tr>\n",
              "    <tr>\n",
              "      <th>Thurston</th>\n",
              "      <td>0</td>\n",
              "      <td>0</td>\n",
              "      <td>2536</td>\n",
              "    </tr>\n",
              "    <tr>\n",
              "      <th>Whatcom</th>\n",
              "      <td>0</td>\n",
              "      <td>0</td>\n",
              "      <td>1871</td>\n",
              "    </tr>\n",
              "    <tr>\n",
              "      <th>Yakima</th>\n",
              "      <td>0</td>\n",
              "      <td>0</td>\n",
              "      <td>2294</td>\n",
              "    </tr>\n",
              "  </tbody>\n",
              "</table>\n",
              "</div>"
            ],
            "text/plain": [
              "METRO         Undeterminable  Rural  Metropolitan\n",
              "County Names                                     \n",
              "Clark                      0      0          4995\n",
              "King                       0      0         19799\n",
              "Kitsap                     0      0          7739\n",
              "N/A                    10475   3926          4187\n",
              "Pierce                     0      0          8544\n",
              "Snohomish                  0      0          3082\n",
              "Spokane                    0      0          5014\n",
              "Thurston                   0      0          2536\n",
              "Whatcom                    0      0          1871\n",
              "Yakima                     0      0          2294"
            ]
          },
          "metadata": {
            "tags": []
          },
          "execution_count": 16
        }
      ]
    },
    {
      "cell_type": "code",
      "metadata": {
        "colab": {
          "base_uri": "https://localhost:8080/"
        },
        "id": "Ssu_iaZMNlqU",
        "outputId": "2db04b6b-eb89-4bf2-dafc-a5b7a367666f"
      },
      "source": [
        "# percent of Metro categories in data\n",
        "print((sum(metro['Undeterminable'])/74481)*100, (sum(metro['Rural'])/74481)*100, (sum(metro['Metropolitan'])/74481)*100)\n",
        "print('Undeterminable','Rural','Metropolitan')"
      ],
      "execution_count": null,
      "outputs": [
        {
          "output_type": "stream",
          "text": [
            "14.063989473825538 5.271142976061008 80.63935768853801\n",
            "Undeterminable Rural Metropolitan\n"
          ],
          "name": "stdout"
        }
      ]
    },
    {
      "cell_type": "code",
      "metadata": {
        "colab": {
          "base_uri": "https://localhost:8080/",
          "height": 282
        },
        "id": "n94Sb0frBVLh",
        "outputId": "ad230620-d9db-4283-d360-625b555c68c4"
      },
      "source": [
        "metrobar = metro.plot(kind = 'barh')\n",
        "metrobar.set_ylabel('Total')"
      ],
      "execution_count": null,
      "outputs": [
        {
          "output_type": "execute_result",
          "data": {
            "text/plain": [
              "Text(0, 0.5, 'Total')"
            ]
          },
          "metadata": {
            "tags": []
          },
          "execution_count": 18
        },
        {
          "output_type": "display_data",
          "data": {
            "image/png": "[encoded data removed]",
            "text/plain": [
              "<Figure size 432x288 with 1 Axes>"
            ]
          },
          "metadata": {
            "tags": []
          }
        }
      ]
    },
    {
      "cell_type": "code",
      "metadata": {
        "colab": {
          "base_uri": "https://localhost:8080/",
          "height": 142
        },
        "id": "1Qhn0l3cHMpP",
        "outputId": "6c511db3-6b11-4767-8ae2-6700be9209e9"
      },
      "source": [
        "# Total \n",
        "\n",
        "metro_props = pd.DataFrame(((metro['Undeterminable'] / 74481)*100,\n",
        "               (metro['Rural'] / 74481)*100, \n",
        "               (metro['Metropolitan'] / 74481)*100))\n",
        "metro_props"
      ],
      "execution_count": null,
      "outputs": [
        {
          "output_type": "execute_result",
          "data": {
            "text/html": [
              "<div>\n",
              "<style scoped>\n",
              "    .dataframe tbody tr th:only-of-type {\n",
              "        vertical-align: middle;\n",
              "    }\n",
              "\n",
              "    .dataframe tbody tr th {\n",
              "        vertical-align: top;\n",
              "    }\n",
              "\n",
              "    .dataframe thead th {\n",
              "        text-align: right;\n",
              "    }\n",
              "</style>\n",
              "<table border=\"1\" class=\"dataframe\">\n",
              "  <thead>\n",
              "    <tr style=\"text-align: right;\">\n",
              "      <th>County Names</th>\n",
              "      <th>Clark</th>\n",
              "      <th>King</th>\n",
              "      <th>Kitsap</th>\n",
              "      <th>N/A</th>\n",
              "      <th>Pierce</th>\n",
              "      <th>Snohomish</th>\n",
              "      <th>Spokane</th>\n",
              "      <th>Thurston</th>\n",
              "      <th>Whatcom</th>\n",
              "      <th>Yakima</th>\n",
              "    </tr>\n",
              "  </thead>\n",
              "  <tbody>\n",
              "    <tr>\n",
              "      <th>Undeterminable</th>\n",
              "      <td>0.000000</td>\n",
              "      <td>0.000000</td>\n",
              "      <td>0.000000</td>\n",
              "      <td>14.063989</td>\n",
              "      <td>0.000000</td>\n",
              "      <td>0.000000</td>\n",
              "      <td>0.000000</td>\n",
              "      <td>0.000000</td>\n",
              "      <td>0.00000</td>\n",
              "      <td>0.00000</td>\n",
              "    </tr>\n",
              "    <tr>\n",
              "      <th>Rural</th>\n",
              "      <td>0.000000</td>\n",
              "      <td>0.000000</td>\n",
              "      <td>0.000000</td>\n",
              "      <td>5.271143</td>\n",
              "      <td>0.000000</td>\n",
              "      <td>0.000000</td>\n",
              "      <td>0.000000</td>\n",
              "      <td>0.000000</td>\n",
              "      <td>0.00000</td>\n",
              "      <td>0.00000</td>\n",
              "    </tr>\n",
              "    <tr>\n",
              "      <th>Metropolitan</th>\n",
              "      <td>6.706408</td>\n",
              "      <td>26.582618</td>\n",
              "      <td>10.390569</td>\n",
              "      <td>5.621568</td>\n",
              "      <td>11.471382</td>\n",
              "      <td>4.137968</td>\n",
              "      <td>6.731918</td>\n",
              "      <td>3.404895</td>\n",
              "      <td>2.51205</td>\n",
              "      <td>3.07998</td>\n",
              "    </tr>\n",
              "  </tbody>\n",
              "</table>\n",
              "</div>"
            ],
            "text/plain": [
              "County Names       Clark       King     Kitsap  ...  Thurston  Whatcom   Yakima\n",
              "Undeterminable  0.000000   0.000000   0.000000  ...  0.000000  0.00000  0.00000\n",
              "Rural           0.000000   0.000000   0.000000  ...  0.000000  0.00000  0.00000\n",
              "Metropolitan    6.706408  26.582618  10.390569  ...  3.404895  2.51205  3.07998\n",
              "\n",
              "[3 rows x 10 columns]"
            ]
          },
          "metadata": {
            "tags": []
          },
          "execution_count": 19
        }
      ]
    },
    {
      "cell_type": "markdown",
      "metadata": {
        "id": "hoSiO2nj932Q"
      },
      "source": [
        "# **Household Data**#"
      ]
    },
    {
      "cell_type": "markdown",
      "metadata": {
        "id": "xaclaRvljBrH"
      },
      "source": [
        "Washington Family Size Median Income: https://www.dshs.wa.gov/esa/eligibility-z-manual-ea-z/state-median-income-chart\n",
        "\n",
        "Income status breakdown: https://www.energy.gov/eere/slsc/low-income-community-energy-solutions#:~:text=Energy%20burden%20is%20defined%20as,income%20spent%20on%20energy%20costs "
      ]
    },
    {
      "cell_type": "code",
      "metadata": {
        "id": "oHUzX5qv98ap"
      },
      "source": [
        "household_data = filtered_washington[['METRO','SERIAL',  'RENTGRS','FAMSIZE', 'County Names', 'Climate Zones', 'Tenure', \n",
        "                                      'Annual Electricity Costs', 'Annual Gas Costs', 'Annual Water Costs',\n",
        "                                      'Annual Fuel Costs', 'HHINCOME', 'HHWT', 'NFAMS']]"
      ],
      "execution_count": null,
      "outputs": []
    },
    {
      "cell_type": "code",
      "metadata": {
        "id": "Ck6zqpIi0EHH"
      },
      "source": [
        "# consider applying same function for AMIs County Level Analysis\n",
        "def class_evaluator(df):\n",
        "  classes = []\n",
        "  for i in df['Income Proportion for Classes']:\n",
        "      if i > 0 and i < 0.3:\n",
        "          classes.append('Extremely Low Income')\n",
        "      elif i >= 0.3 and i < 0.5:\n",
        "          classes.append('Very Low Income')\n",
        "      elif i >= 0.5 and i < 0.8:\n",
        "          classes.append('Low Income')\n",
        "      elif i >= 0.8:\n",
        "          classes.append('Not Low Income')\n",
        "      else:\n",
        "          classes.append('Above Median Income')\n",
        "  return classes"
      ],
      "execution_count": null,
      "outputs": []
    },
    {
      "cell_type": "code",
      "metadata": {
        "colab": {
          "base_uri": "https://localhost:8080/",
          "height": 1000
        },
        "id": "0HYBrUYu_qOn",
        "outputId": "743abefc-1391-493f-9dba-9eec1dc28df3"
      },
      "source": [
        "income_bounds = np.array([0,48204, 63036, 77856, 92688, 107520, 122353, 125136, 127920, 130704, 133488, 136272, 139056, 141840])\n",
        "income_bounds = np.append(income_bounds, np.arange(0 + 141840, 300000, 2500))\n",
        "household_data.loc[:,'Family Size Median Incomes'] = [income_bounds[i] for i in household_data['FAMSIZE']]\n",
        "household_data.loc[:,'Meets Income Threshold'] = household_data['HHINCOME'] >= household_data['Family Size Median Incomes']\n",
        "\n",
        "household_data.loc[:,'Total Energy Costs'] = (household_data['Annual Electricity Costs'] + household_data['Annual Fuel Costs'] + household_data['Annual Gas Costs'] + household_data['Annual Water Costs'])\n",
        "household_data.loc[:,'[WEIGHTED] Energy Spend'] = (household_data['HHWT'] * household_data['Total Energy Costs'])\n",
        "household_data.loc[:,'[WEIGHTED] Household Occupancy'] = (household_data['FAMSIZE'] * household_data['HHWT'])\n",
        "household_data.loc[:,'[WEIGHTED] Gas Spend'] = (household_data['Annual Gas Costs'] * household_data['HHWT'])\n",
        "household_data.loc[:,'[WEIGHTED] Household Occupancy'] = (household_data['FAMSIZE'] * household_data['HHWT'])\n",
        "household_data.loc[:,'Income Proportion for Classes'] = (household_data['HHINCOME'] / household_data['Family Size Median Incomes'])\n",
        "\n",
        "\n",
        "# thanks, Sean \n",
        "poverty_bounds = np.array([0, 12490, 16910, 21330, 25750, 31170, 34590, 39010, 43430])\n",
        "poverty_bounds = np.append(poverty_bounds, np.arange(4540 + 44660, 1000000, 43430))\n",
        "household_data.loc[:,'Poverty Line'] = [poverty_bounds[size] for size in household_data['FAMSIZE']]\n",
        "household_data.loc[:,'Poverty'] = household_data['HHINCOME'] <= household_data['Poverty Line']\n",
        "\n",
        "household_data.loc[:,'Classes'] = class_evaluator(household_data)\n",
        "household_data.drop(columns = ['Family Size Median Incomes','Income Proportion for Classes', 'Poverty Line'], inplace = True)\n",
        "household_data.head()\n"
      ],
      "execution_count": null,
      "outputs": [
        {
          "output_type": "stream",
          "text": [
            "/usr/local/lib/python3.7/dist-packages/pandas/core/indexing.py:1596: SettingWithCopyWarning: \n",
            "A value is trying to be set on a copy of a slice from a DataFrame.\n",
            "Try using .loc[row_indexer,col_indexer] = value instead\n",
            "\n",
            "See the caveats in the documentation: https://pandas.pydata.org/pandas-docs/stable/user_guide/indexing.html#returning-a-view-versus-a-copy\n",
            "  self.obj[key] = _infer_fill_value(value)\n",
            "/usr/local/lib/python3.7/dist-packages/pandas/core/indexing.py:1743: SettingWithCopyWarning: \n",
            "A value is trying to be set on a copy of a slice from a DataFrame.\n",
            "Try using .loc[row_indexer,col_indexer] = value instead\n",
            "\n",
            "See the caveats in the documentation: https://pandas.pydata.org/pandas-docs/stable/user_guide/indexing.html#returning-a-view-versus-a-copy\n",
            "  isetter(ilocs[0], value)\n",
            "/usr/local/lib/python3.7/dist-packages/pandas/core/indexing.py:1596: SettingWithCopyWarning: \n",
            "A value is trying to be set on a copy of a slice from a DataFrame.\n",
            "Try using .loc[row_indexer,col_indexer] = value instead\n",
            "\n",
            "See the caveats in the documentation: https://pandas.pydata.org/pandas-docs/stable/user_guide/indexing.html#returning-a-view-versus-a-copy\n",
            "  self.obj[key] = _infer_fill_value(value)\n",
            "/usr/local/lib/python3.7/dist-packages/pandas/core/indexing.py:1743: SettingWithCopyWarning: \n",
            "A value is trying to be set on a copy of a slice from a DataFrame.\n",
            "Try using .loc[row_indexer,col_indexer] = value instead\n",
            "\n",
            "See the caveats in the documentation: https://pandas.pydata.org/pandas-docs/stable/user_guide/indexing.html#returning-a-view-versus-a-copy\n",
            "  isetter(ilocs[0], value)\n",
            "/usr/local/lib/python3.7/dist-packages/pandas/core/indexing.py:1596: SettingWithCopyWarning: \n",
            "A value is trying to be set on a copy of a slice from a DataFrame.\n",
            "Try using .loc[row_indexer,col_indexer] = value instead\n",
            "\n",
            "See the caveats in the documentation: https://pandas.pydata.org/pandas-docs/stable/user_guide/indexing.html#returning-a-view-versus-a-copy\n",
            "  self.obj[key] = _infer_fill_value(value)\n",
            "/usr/local/lib/python3.7/dist-packages/pandas/core/indexing.py:1743: SettingWithCopyWarning: \n",
            "A value is trying to be set on a copy of a slice from a DataFrame.\n",
            "Try using .loc[row_indexer,col_indexer] = value instead\n",
            "\n",
            "See the caveats in the documentation: https://pandas.pydata.org/pandas-docs/stable/user_guide/indexing.html#returning-a-view-versus-a-copy\n",
            "  isetter(ilocs[0], value)\n",
            "/usr/local/lib/python3.7/dist-packages/pandas/core/frame.py:4174: SettingWithCopyWarning: \n",
            "A value is trying to be set on a copy of a slice from a DataFrame\n",
            "\n",
            "See the caveats in the documentation: https://pandas.pydata.org/pandas-docs/stable/user_guide/indexing.html#returning-a-view-versus-a-copy\n",
            "  errors=errors,\n"
          ],
          "name": "stderr"
        },
        {
          "output_type": "execute_result",
          "data": {
            "text/html": [
              "<div>\n",
              "<style scoped>\n",
              "    .dataframe tbody tr th:only-of-type {\n",
              "        vertical-align: middle;\n",
              "    }\n",
              "\n",
              "    .dataframe tbody tr th {\n",
              "        vertical-align: top;\n",
              "    }\n",
              "\n",
              "    .dataframe thead th {\n",
              "        text-align: right;\n",
              "    }\n",
              "</style>\n",
              "<table border=\"1\" class=\"dataframe\">\n",
              "  <thead>\n",
              "    <tr style=\"text-align: right;\">\n",
              "      <th></th>\n",
              "      <th>METRO</th>\n",
              "      <th>SERIAL</th>\n",
              "      <th>RENTGRS</th>\n",
              "      <th>FAMSIZE</th>\n",
              "      <th>County Names</th>\n",
              "      <th>Climate Zones</th>\n",
              "      <th>Tenure</th>\n",
              "      <th>Annual Electricity Costs</th>\n",
              "      <th>Annual Gas Costs</th>\n",
              "      <th>Annual Water Costs</th>\n",
              "      <th>Annual Fuel Costs</th>\n",
              "      <th>HHINCOME</th>\n",
              "      <th>HHWT</th>\n",
              "      <th>NFAMS</th>\n",
              "      <th>Meets Income Threshold</th>\n",
              "      <th>Total Energy Costs</th>\n",
              "      <th>[WEIGHTED] Energy Spend</th>\n",
              "      <th>[WEIGHTED] Household Occupancy</th>\n",
              "      <th>[WEIGHTED] Gas Spend</th>\n",
              "      <th>Poverty</th>\n",
              "      <th>Classes</th>\n",
              "    </tr>\n",
              "  </thead>\n",
              "  <tbody>\n",
              "    <tr>\n",
              "      <th>877</th>\n",
              "      <td>0</td>\n",
              "      <td>1359289</td>\n",
              "      <td>0</td>\n",
              "      <td>2</td>\n",
              "      <td>N/A</td>\n",
              "      <td>N/A</td>\n",
              "      <td>Owned</td>\n",
              "      <td>960</td>\n",
              "      <td>9993</td>\n",
              "      <td>900</td>\n",
              "      <td>9993</td>\n",
              "      <td>56600</td>\n",
              "      <td>71.0</td>\n",
              "      <td>1</td>\n",
              "      <td>False</td>\n",
              "      <td>21846</td>\n",
              "      <td>1551066.0</td>\n",
              "      <td>142.0</td>\n",
              "      <td>709503.0</td>\n",
              "      <td>False</td>\n",
              "      <td>Not Low Income</td>\n",
              "    </tr>\n",
              "    <tr>\n",
              "      <th>878</th>\n",
              "      <td>0</td>\n",
              "      <td>1359289</td>\n",
              "      <td>0</td>\n",
              "      <td>2</td>\n",
              "      <td>N/A</td>\n",
              "      <td>N/A</td>\n",
              "      <td>Owned</td>\n",
              "      <td>960</td>\n",
              "      <td>9993</td>\n",
              "      <td>900</td>\n",
              "      <td>9993</td>\n",
              "      <td>56600</td>\n",
              "      <td>71.0</td>\n",
              "      <td>1</td>\n",
              "      <td>False</td>\n",
              "      <td>21846</td>\n",
              "      <td>1551066.0</td>\n",
              "      <td>142.0</td>\n",
              "      <td>709503.0</td>\n",
              "      <td>False</td>\n",
              "      <td>Not Low Income</td>\n",
              "    </tr>\n",
              "    <tr>\n",
              "      <th>879</th>\n",
              "      <td>0</td>\n",
              "      <td>1359291</td>\n",
              "      <td>0</td>\n",
              "      <td>1</td>\n",
              "      <td>N/A</td>\n",
              "      <td>N/A</td>\n",
              "      <td>Owned</td>\n",
              "      <td>1080</td>\n",
              "      <td>9993</td>\n",
              "      <td>300</td>\n",
              "      <td>200</td>\n",
              "      <td>70000</td>\n",
              "      <td>66.0</td>\n",
              "      <td>1</td>\n",
              "      <td>True</td>\n",
              "      <td>11573</td>\n",
              "      <td>763818.0</td>\n",
              "      <td>66.0</td>\n",
              "      <td>659538.0</td>\n",
              "      <td>False</td>\n",
              "      <td>Not Low Income</td>\n",
              "    </tr>\n",
              "    <tr>\n",
              "      <th>880</th>\n",
              "      <td>2</td>\n",
              "      <td>1359298</td>\n",
              "      <td>0</td>\n",
              "      <td>2</td>\n",
              "      <td>N/A</td>\n",
              "      <td>N/A</td>\n",
              "      <td>Owned</td>\n",
              "      <td>480</td>\n",
              "      <td>9993</td>\n",
              "      <td>1100</td>\n",
              "      <td>9993</td>\n",
              "      <td>197000</td>\n",
              "      <td>66.0</td>\n",
              "      <td>1</td>\n",
              "      <td>True</td>\n",
              "      <td>21566</td>\n",
              "      <td>1423356.0</td>\n",
              "      <td>132.0</td>\n",
              "      <td>659538.0</td>\n",
              "      <td>False</td>\n",
              "      <td>Not Low Income</td>\n",
              "    </tr>\n",
              "    <tr>\n",
              "      <th>881</th>\n",
              "      <td>2</td>\n",
              "      <td>1359298</td>\n",
              "      <td>0</td>\n",
              "      <td>2</td>\n",
              "      <td>N/A</td>\n",
              "      <td>N/A</td>\n",
              "      <td>Owned</td>\n",
              "      <td>480</td>\n",
              "      <td>9993</td>\n",
              "      <td>1100</td>\n",
              "      <td>9993</td>\n",
              "      <td>197000</td>\n",
              "      <td>66.0</td>\n",
              "      <td>1</td>\n",
              "      <td>True</td>\n",
              "      <td>21566</td>\n",
              "      <td>1423356.0</td>\n",
              "      <td>132.0</td>\n",
              "      <td>659538.0</td>\n",
              "      <td>False</td>\n",
              "      <td>Not Low Income</td>\n",
              "    </tr>\n",
              "  </tbody>\n",
              "</table>\n",
              "</div>"
            ],
            "text/plain": [
              "    METRO   SERIAL  RENTGRS  ...  [WEIGHTED] Gas Spend Poverty         Classes\n",
              "877     0  1359289        0  ...              709503.0   False  Not Low Income\n",
              "878     0  1359289        0  ...              709503.0   False  Not Low Income\n",
              "879     0  1359291        0  ...              659538.0   False  Not Low Income\n",
              "880     2  1359298        0  ...              659538.0   False  Not Low Income\n",
              "881     2  1359298        0  ...              659538.0   False  Not Low Income\n",
              "\n",
              "[5 rows x 21 columns]"
            ]
          },
          "metadata": {
            "tags": []
          },
          "execution_count": 22
        }
      ]
    },
    {
      "cell_type": "code",
      "metadata": {
        "colab": {
          "base_uri": "https://localhost:8080/"
        },
        "id": "ZEQVUaKfpFqo",
        "outputId": "b83f7bb2-a2c0-4bb3-d7e0-e10f50c9fb5f"
      },
      "source": [
        "household_data.shape"
      ],
      "execution_count": null,
      "outputs": [
        {
          "output_type": "execute_result",
          "data": {
            "text/plain": [
              "(74462, 21)"
            ]
          },
          "metadata": {
            "tags": []
          },
          "execution_count": 23
        }
      ]
    },
    {
      "cell_type": "code",
      "metadata": {
        "colab": {
          "base_uri": "https://localhost:8080/"
        },
        "id": "D27OxoPxoqre",
        "outputId": "9d72e810-1900-4833-fa1d-b9d067204509"
      },
      "source": [
        "familysize = household_data[['NFAMS']]\n",
        "familysize.value_counts()"
      ],
      "execution_count": null,
      "outputs": [
        {
          "output_type": "execute_result",
          "data": {
            "text/plain": [
              "NFAMS\n",
              "1        67894\n",
              "2         4584\n",
              "3         1179\n",
              "4          433\n",
              "5          196\n",
              "6           51\n",
              "15          36\n",
              "8           32\n",
              "10          21\n",
              "19          20\n",
              "9            9\n",
              "7            7\n",
              "dtype: int64"
            ]
          },
          "metadata": {
            "tags": []
          },
          "execution_count": 24
        }
      ]
    },
    {
      "cell_type": "code",
      "metadata": {
        "id": "GJARKZw8qMDM"
      },
      "source": [
        "status_breakdown = household_data[['Tenure', 'Classes']]"
      ],
      "execution_count": null,
      "outputs": []
    },
    {
      "cell_type": "code",
      "metadata": {
        "colab": {
          "base_uri": "https://localhost:8080/",
          "height": 204
        },
        "id": "zCgI5Ikvditn",
        "outputId": "f928e0eb-6d3f-4aff-9c61-6235bbe02e4d"
      },
      "source": [
        "status_breakdown.groupby('Classes',  as_index = False).size()"
      ],
      "execution_count": null,
      "outputs": [
        {
          "output_type": "execute_result",
          "data": {
            "text/html": [
              "<div>\n",
              "<style scoped>\n",
              "    .dataframe tbody tr th:only-of-type {\n",
              "        vertical-align: middle;\n",
              "    }\n",
              "\n",
              "    .dataframe tbody tr th {\n",
              "        vertical-align: top;\n",
              "    }\n",
              "\n",
              "    .dataframe thead th {\n",
              "        text-align: right;\n",
              "    }\n",
              "</style>\n",
              "<table border=\"1\" class=\"dataframe\">\n",
              "  <thead>\n",
              "    <tr style=\"text-align: right;\">\n",
              "      <th></th>\n",
              "      <th>Classes</th>\n",
              "      <th>size</th>\n",
              "    </tr>\n",
              "  </thead>\n",
              "  <tbody>\n",
              "    <tr>\n",
              "      <th>0</th>\n",
              "      <td>Above Median Income</td>\n",
              "      <td>355</td>\n",
              "    </tr>\n",
              "    <tr>\n",
              "      <th>1</th>\n",
              "      <td>Extremely Low Income</td>\n",
              "      <td>4549</td>\n",
              "    </tr>\n",
              "    <tr>\n",
              "      <th>2</th>\n",
              "      <td>Low Income</td>\n",
              "      <td>10957</td>\n",
              "    </tr>\n",
              "    <tr>\n",
              "      <th>3</th>\n",
              "      <td>Not Low Income</td>\n",
              "      <td>52742</td>\n",
              "    </tr>\n",
              "    <tr>\n",
              "      <th>4</th>\n",
              "      <td>Very Low Income</td>\n",
              "      <td>5859</td>\n",
              "    </tr>\n",
              "  </tbody>\n",
              "</table>\n",
              "</div>"
            ],
            "text/plain": [
              "                Classes   size\n",
              "0   Above Median Income    355\n",
              "1  Extremely Low Income   4549\n",
              "2            Low Income  10957\n",
              "3        Not Low Income  52742\n",
              "4       Very Low Income   5859"
            ]
          },
          "metadata": {
            "tags": []
          },
          "execution_count": 26
        }
      ]
    },
    {
      "cell_type": "code",
      "metadata": {
        "colab": {
          "base_uri": "https://localhost:8080/",
          "height": 372
        },
        "id": "SO19s2SdRPQ1",
        "outputId": "48df6ede-9eb5-4672-c931-5714f05c7233"
      },
      "source": [
        "cl2 = status_breakdown.groupby(['Classes']).size()\n",
        "my_colors = 'rgbky'\n",
        "cl2.plot(kind = 'bar', color=['blue', 'orange', 'green', 'red', 'purple'])\n",
        "plt.title('Washington State Income Statuses')\n",
        "plt.xlabel('Status')\n",
        "plt.xticks(rotation = 45)\n",
        "plt.ylabel('Number of Residents');"
      ],
      "execution_count": null,
      "outputs": [
        {
          "output_type": "display_data",
          "data": {
            "image/png": "[encoded data removed]",
            "text/plain": [
              "<Figure size 432x288 with 1 Axes>"
            ]
          },
          "metadata": {
            "tags": []
          }
        }
      ]
    },
    {
      "cell_type": "code",
      "metadata": {
        "colab": {
          "base_uri": "https://localhost:8080/",
          "height": 265
        },
        "id": "Rf8rOFKlcC9I",
        "outputId": "b1cc6f5b-3aa3-46a8-da1a-7d53bff5cd1c"
      },
      "source": [
        "tenureandlevels = status_breakdown.groupby(['Tenure','Classes']).size().unstack()\n",
        "tenureandlevels = tenureandlevels.plot(kind='barh',stacked=True,legend=True)\n",
        "tenureandlevels.legend();"
      ],
      "execution_count": null,
      "outputs": [
        {
          "output_type": "display_data",
          "data": {
            "image/png": "[encoded data removed]",
            "text/plain": [
              "<Figure size 432x288 with 1 Axes>"
            ]
          },
          "metadata": {
            "tags": []
          }
        }
      ]
    },
    {
      "cell_type": "code",
      "metadata": {
        "colab": {
          "base_uri": "https://localhost:8080/",
          "height": 296
        },
        "id": "9I4XjXgKKblR",
        "outputId": "fd931b95-387d-4b59-a056-599e880c83c9"
      },
      "source": [
        "buildingstypes = household_data.groupby(['Tenure','Classes']).size().unstack()\n",
        "buildingstypes = buildingstypes.plot(kind='bar',stacked=False,legend=True)\n",
        "plt.title('Income Status for Tenure Types')\n",
        "plt.ylabel('Number of Residents')\n",
        "plt.xticks(rotation = 1)\n",
        "buildingstypes.legend();"
      ],
      "execution_count": null,
      "outputs": [
        {
          "output_type": "display_data",
          "data": {
            "image/png": "[encoded data removed]",
            "text/plain": [
              "<Figure size 432x288 with 1 Axes>"
            ]
          },
          "metadata": {
            "tags": []
          }
        }
      ]
    },
    {
      "cell_type": "code",
      "metadata": {
        "id": "ipAY1sMS4j6o"
      },
      "source": [
        "wash_income_households = household_data.pivot_table(index = ['FAMSIZE', 'Meets Income Threshold'], aggfunc = 'count')[['SERIAL']].rename(columns = {'SERIAL' : 'Total'})\n",
        "wash_income_households.head();"
      ],
      "execution_count": null,
      "outputs": []
    },
    {
      "cell_type": "code",
      "metadata": {
        "colab": {
          "base_uri": "https://localhost:8080/",
          "height": 295
        },
        "id": "CuwPBljy4i-F",
        "outputId": "86170499-e6cc-4ea8-b943-cc4e4cc18eac"
      },
      "source": [
        "wash_income_households.plot(kind = 'barh')\n",
        "plt.title('Household Sizes Meeting/Not Meeting Median Yearly Income')\n",
        "plt.xlabel('Total')\n",
        "plt.ylabel('Family Sizes');"
      ],
      "execution_count": null,
      "outputs": [
        {
          "output_type": "display_data",
          "data": {
            "image/png": "[encoded data removed]",
            "text/plain": [
              "<Figure size 432x288 with 1 Axes>"
            ]
          },
          "metadata": {
            "tags": []
          }
        }
      ]
    },
    {
      "cell_type": "code",
      "metadata": {
        "id": "RfHAJzoz463q"
      },
      "source": [
        "wash_poverty_households = household_data.pivot_table(index = ['FAMSIZE', 'Poverty'], aggfunc = 'count')[['SERIAL']].rename(columns = {'SERIAL' : 'Count'})\n",
        "wash_poverty_households.head();"
      ],
      "execution_count": null,
      "outputs": []
    },
    {
      "cell_type": "code",
      "metadata": {
        "colab": {
          "base_uri": "https://localhost:8080/",
          "height": 295
        },
        "id": "hZf1j3ML49qu",
        "outputId": "d7687b44-6cf8-46e5-dccb-eff19f886d24"
      },
      "source": [
        "wash_poverty_households.plot(kind = 'barh')\n",
        "plt.title('Households - Federal Poverty Line')\n",
        "plt.xlabel('Total')\n",
        "plt.ylabel('Family Sizes');"
      ],
      "execution_count": null,
      "outputs": [
        {
          "output_type": "display_data",
          "data": {
            "image/png": "[encoded data removed]",
            "text/plain": [
              "<Figure size 432x288 with 1 Axes>"
            ]
          },
          "metadata": {
            "tags": []
          }
        }
      ]
    },
    {
      "cell_type": "code",
      "metadata": {
        "colab": {
          "base_uri": "https://localhost:8080/",
          "height": 419
        },
        "id": "ZlDlYk-QHCqy",
        "outputId": "50b6c861-7f9b-4be9-a6b2-8f88173447fd"
      },
      "source": [
        "rentownpoverty = household_data[['Tenure', 'Poverty']]\n",
        "rentownpoverty[(rentownpoverty['Tenure'] =='Owned') & (rentownpoverty['Poverty'] == True)] # 1717 / 74107\n",
        "rentownpoverty[(rentownpoverty['Tenure'] =='Owned') & (rentownpoverty['Poverty'] == False)] # 52336 / 74107\n",
        "rentownpoverty[(rentownpoverty['Tenure'] =='Rented') & (rentownpoverty['Poverty'] == True)] # 2371 / 74107\n",
        "rentownpoverty[(rentownpoverty['Tenure'] =='Rented') & (rentownpoverty['Poverty'] == False)] # 17683 / 74107\n",
        "rentownpoverty"
      ],
      "execution_count": null,
      "outputs": [
        {
          "output_type": "execute_result",
          "data": {
            "text/html": [
              "<div>\n",
              "<style scoped>\n",
              "    .dataframe tbody tr th:only-of-type {\n",
              "        vertical-align: middle;\n",
              "    }\n",
              "\n",
              "    .dataframe tbody tr th {\n",
              "        vertical-align: top;\n",
              "    }\n",
              "\n",
              "    .dataframe thead th {\n",
              "        text-align: right;\n",
              "    }\n",
              "</style>\n",
              "<table border=\"1\" class=\"dataframe\">\n",
              "  <thead>\n",
              "    <tr style=\"text-align: right;\">\n",
              "      <th></th>\n",
              "      <th>Tenure</th>\n",
              "      <th>Poverty</th>\n",
              "    </tr>\n",
              "  </thead>\n",
              "  <tbody>\n",
              "    <tr>\n",
              "      <th>877</th>\n",
              "      <td>Owned</td>\n",
              "      <td>False</td>\n",
              "    </tr>\n",
              "    <tr>\n",
              "      <th>878</th>\n",
              "      <td>Owned</td>\n",
              "      <td>False</td>\n",
              "    </tr>\n",
              "    <tr>\n",
              "      <th>879</th>\n",
              "      <td>Owned</td>\n",
              "      <td>False</td>\n",
              "    </tr>\n",
              "    <tr>\n",
              "      <th>880</th>\n",
              "      <td>Owned</td>\n",
              "      <td>False</td>\n",
              "    </tr>\n",
              "    <tr>\n",
              "      <th>881</th>\n",
              "      <td>Owned</td>\n",
              "      <td>False</td>\n",
              "    </tr>\n",
              "    <tr>\n",
              "      <th>...</th>\n",
              "      <td>...</td>\n",
              "      <td>...</td>\n",
              "    </tr>\n",
              "    <tr>\n",
              "      <th>77874</th>\n",
              "      <td>Owned</td>\n",
              "      <td>False</td>\n",
              "    </tr>\n",
              "    <tr>\n",
              "      <th>77875</th>\n",
              "      <td>Owned</td>\n",
              "      <td>False</td>\n",
              "    </tr>\n",
              "    <tr>\n",
              "      <th>77876</th>\n",
              "      <td>Owned</td>\n",
              "      <td>False</td>\n",
              "    </tr>\n",
              "    <tr>\n",
              "      <th>77877</th>\n",
              "      <td>Owned</td>\n",
              "      <td>False</td>\n",
              "    </tr>\n",
              "    <tr>\n",
              "      <th>77878</th>\n",
              "      <td>Owned</td>\n",
              "      <td>False</td>\n",
              "    </tr>\n",
              "  </tbody>\n",
              "</table>\n",
              "<p>74462 rows × 2 columns</p>\n",
              "</div>"
            ],
            "text/plain": [
              "      Tenure  Poverty\n",
              "877    Owned    False\n",
              "878    Owned    False\n",
              "879    Owned    False\n",
              "880    Owned    False\n",
              "881    Owned    False\n",
              "...      ...      ...\n",
              "77874  Owned    False\n",
              "77875  Owned    False\n",
              "77876  Owned    False\n",
              "77877  Owned    False\n",
              "77878  Owned    False\n",
              "\n",
              "[74462 rows x 2 columns]"
            ]
          },
          "metadata": {
            "tags": []
          },
          "execution_count": 34
        }
      ]
    },
    {
      "cell_type": "markdown",
      "metadata": {
        "id": "9rkgPzWudq-I"
      },
      "source": [
        "# **Individual Data**"
      ]
    },
    {
      "cell_type": "markdown",
      "metadata": {
        "id": "KtBGe2m3b11S"
      },
      "source": [
        "# New Section"
      ]
    },
    {
      "cell_type": "code",
      "metadata": {
        "id": "C6nlcoPoeMA3"
      },
      "source": [
        "# (74462, 21)\n",
        "individual_data = filtered_washington[['YEAR','FAMSIZE','METRO','SERIAL','HHWT','HHTYPE','County ICPs','AGE','County Names','Climate Zones','STRATA', 'GQ','Tenure',\t\n",
        "                                   'OWNERSHPD','RENTGRS','Annual Electricity Costs', 'Annual Gas Costs',\n",
        "                                   'Annual Water Costs', 'Annual Fuel Costs','HHINCOME','PERNUM','PERWT', 'NFAMS']]"
      ],
      "execution_count": null,
      "outputs": []
    },
    {
      "cell_type": "code",
      "metadata": {
        "colab": {
          "base_uri": "https://localhost:8080/"
        },
        "id": "vO2sGafDvjwk",
        "outputId": "1b1fcb1c-c7d5-4f24-a14f-4013af9f18cf"
      },
      "source": [
        "individual_data['Sum Energy Costs'] = (individual_data['Annual Electricity Costs'] + individual_data['Annual Fuel Costs'] + individual_data['Annual Gas Costs'] + individual_data['Annual Water Costs'])\n",
        "individual_data['Energy Cost Burden'] = (individual_data['HHINCOME'] / individual_data['Sum Energy Costs'])\n",
        "individual_data['Heating Fuel Cost'] = (individual_data['Annual Gas Costs'] + individual_data['Annual Fuel Costs'])\n",
        "individual_data['Rent Burden'] = ((individual_data['RENTGRS'] * 12) /  individual_data['HHINCOME'])\n",
        "individual_data['Heating Fuel Cost Burden'] = (individual_data['HHINCOME'] / individual_data['Heating Fuel Cost'])\n",
        "individual_data['Fuel as % of Total Energy'] = (individual_data['Sum Energy Costs'] / individual_data['Heating Fuel Cost'])\n",
        "\n",
        "income_bounds = np.array([0,48204, 63036, 77856, 92688, 107520, 122353, 125136, 127920, 130704, 133488, 136272, 139056, 141840])\n",
        "income_bounds = np.append(income_bounds, np.arange(0 + 141840, 300000, 2500))\n",
        "individual_data['Family Size Median Incomes'] = [income_bounds[i] for i in individual_data['FAMSIZE']]\n",
        "individual_data['Meets Income Threshold'] = individual_data['HHINCOME'] >= individual_data['Family Size Median Incomes']\n",
        "individual_data['Income Proportion for Classes'] = (individual_data['HHINCOME'] / individual_data['Family Size Median Incomes'])\n",
        "individual_data['Classes'] = class_evaluator(individual_data)\n",
        "individual_data.drop(columns = ['Family Size Median Incomes','Income Proportion for Classes'], inplace = True)\n",
        "individual_data.head();"
      ],
      "execution_count": null,
      "outputs": [
        {
          "output_type": "stream",
          "text": [
            "/usr/local/lib/python3.7/dist-packages/ipykernel_launcher.py:1: SettingWithCopyWarning: \n",
            "A value is trying to be set on a copy of a slice from a DataFrame.\n",
            "Try using .loc[row_indexer,col_indexer] = value instead\n",
            "\n",
            "See the caveats in the documentation: https://pandas.pydata.org/pandas-docs/stable/user_guide/indexing.html#returning-a-view-versus-a-copy\n",
            "  \"\"\"Entry point for launching an IPython kernel.\n",
            "/usr/local/lib/python3.7/dist-packages/ipykernel_launcher.py:2: SettingWithCopyWarning: \n",
            "A value is trying to be set on a copy of a slice from a DataFrame.\n",
            "Try using .loc[row_indexer,col_indexer] = value instead\n",
            "\n",
            "See the caveats in the documentation: https://pandas.pydata.org/pandas-docs/stable/user_guide/indexing.html#returning-a-view-versus-a-copy\n",
            "  \n",
            "/usr/local/lib/python3.7/dist-packages/ipykernel_launcher.py:3: SettingWithCopyWarning: \n",
            "A value is trying to be set on a copy of a slice from a DataFrame.\n",
            "Try using .loc[row_indexer,col_indexer] = value instead\n",
            "\n",
            "See the caveats in the documentation: https://pandas.pydata.org/pandas-docs/stable/user_guide/indexing.html#returning-a-view-versus-a-copy\n",
            "  This is separate from the ipykernel package so we can avoid doing imports until\n",
            "/usr/local/lib/python3.7/dist-packages/ipykernel_launcher.py:4: SettingWithCopyWarning: \n",
            "A value is trying to be set on a copy of a slice from a DataFrame.\n",
            "Try using .loc[row_indexer,col_indexer] = value instead\n",
            "\n",
            "See the caveats in the documentation: https://pandas.pydata.org/pandas-docs/stable/user_guide/indexing.html#returning-a-view-versus-a-copy\n",
            "  after removing the cwd from sys.path.\n",
            "/usr/local/lib/python3.7/dist-packages/ipykernel_launcher.py:5: SettingWithCopyWarning: \n",
            "A value is trying to be set on a copy of a slice from a DataFrame.\n",
            "Try using .loc[row_indexer,col_indexer] = value instead\n",
            "\n",
            "See the caveats in the documentation: https://pandas.pydata.org/pandas-docs/stable/user_guide/indexing.html#returning-a-view-versus-a-copy\n",
            "  \"\"\"\n",
            "/usr/local/lib/python3.7/dist-packages/ipykernel_launcher.py:6: SettingWithCopyWarning: \n",
            "A value is trying to be set on a copy of a slice from a DataFrame.\n",
            "Try using .loc[row_indexer,col_indexer] = value instead\n",
            "\n",
            "See the caveats in the documentation: https://pandas.pydata.org/pandas-docs/stable/user_guide/indexing.html#returning-a-view-versus-a-copy\n",
            "  \n",
            "/usr/local/lib/python3.7/dist-packages/ipykernel_launcher.py:10: SettingWithCopyWarning: \n",
            "A value is trying to be set on a copy of a slice from a DataFrame.\n",
            "Try using .loc[row_indexer,col_indexer] = value instead\n",
            "\n",
            "See the caveats in the documentation: https://pandas.pydata.org/pandas-docs/stable/user_guide/indexing.html#returning-a-view-versus-a-copy\n",
            "  # Remove the CWD from sys.path while we load stuff.\n",
            "/usr/local/lib/python3.7/dist-packages/ipykernel_launcher.py:11: SettingWithCopyWarning: \n",
            "A value is trying to be set on a copy of a slice from a DataFrame.\n",
            "Try using .loc[row_indexer,col_indexer] = value instead\n",
            "\n",
            "See the caveats in the documentation: https://pandas.pydata.org/pandas-docs/stable/user_guide/indexing.html#returning-a-view-versus-a-copy\n",
            "  # This is added back by InteractiveShellApp.init_path()\n",
            "/usr/local/lib/python3.7/dist-packages/ipykernel_launcher.py:12: SettingWithCopyWarning: \n",
            "A value is trying to be set on a copy of a slice from a DataFrame.\n",
            "Try using .loc[row_indexer,col_indexer] = value instead\n",
            "\n",
            "See the caveats in the documentation: https://pandas.pydata.org/pandas-docs/stable/user_guide/indexing.html#returning-a-view-versus-a-copy\n",
            "  if sys.path[0] == '':\n",
            "/usr/local/lib/python3.7/dist-packages/ipykernel_launcher.py:13: SettingWithCopyWarning: \n",
            "A value is trying to be set on a copy of a slice from a DataFrame.\n",
            "Try using .loc[row_indexer,col_indexer] = value instead\n",
            "\n",
            "See the caveats in the documentation: https://pandas.pydata.org/pandas-docs/stable/user_guide/indexing.html#returning-a-view-versus-a-copy\n",
            "  del sys.path[0]\n",
            "/usr/local/lib/python3.7/dist-packages/pandas/core/frame.py:4174: SettingWithCopyWarning: \n",
            "A value is trying to be set on a copy of a slice from a DataFrame\n",
            "\n",
            "See the caveats in the documentation: https://pandas.pydata.org/pandas-docs/stable/user_guide/indexing.html#returning-a-view-versus-a-copy\n",
            "  errors=errors,\n"
          ],
          "name": "stderr"
        }
      ]
    },
    {
      "cell_type": "code",
      "metadata": {
        "id": "P1E55iiVtACV"
      },
      "source": [
        "def energy_burden_bins(df):\n",
        "  bins = []\n",
        "  for burden in df['Energy Cost Burden']:\n",
        "    if burden >= 0 and burden <= 0.05:\n",
        "      bins.append('0-5 Percent')\n",
        "    elif burden > 0.05 and burden <= 0.1:\n",
        "      bins.append('5-10 Percent')\n",
        "    elif burden > 0.1 and burden <= 0.2:\n",
        "      bins.append('10-20 Percent')\n",
        "    else:\n",
        "      bins.append('> 20 Percent')\n",
        "  return bins"
      ],
      "execution_count": null,
      "outputs": []
    },
    {
      "cell_type": "code",
      "metadata": {
        "colab": {
          "base_uri": "https://localhost:8080/"
        },
        "id": "P90h-NoctgHg",
        "outputId": "fe3a2916-9346-45e3-d9bd-5e5e5785a73b"
      },
      "source": [
        "individual_data['Energy Burdens Bins'] = energy_burden_bins(individual_data)\n",
        "(individual_data['Energy Burdens Bins'].value_counts() / individual_data.shape[0])*100"
      ],
      "execution_count": null,
      "outputs": [
        {
          "output_type": "stream",
          "text": [
            "/usr/local/lib/python3.7/dist-packages/ipykernel_launcher.py:1: SettingWithCopyWarning: \n",
            "A value is trying to be set on a copy of a slice from a DataFrame.\n",
            "Try using .loc[row_indexer,col_indexer] = value instead\n",
            "\n",
            "See the caveats in the documentation: https://pandas.pydata.org/pandas-docs/stable/user_guide/indexing.html#returning-a-view-versus-a-copy\n",
            "  \"\"\"Entry point for launching an IPython kernel.\n"
          ],
          "name": "stderr"
        },
        {
          "output_type": "execute_result",
          "data": {
            "text/plain": [
              "> 20 Percent     98.681207\n",
              "0-5 Percent       0.714458\n",
              "10-20 Percent     0.420349\n",
              "5-10 Percent      0.183986\n",
              "Name: Energy Burdens Bins, dtype: float64"
            ]
          },
          "metadata": {
            "tags": []
          },
          "execution_count": 38
        }
      ]
    },
    {
      "cell_type": "code",
      "metadata": {
        "id": "E743okcO-7XY"
      },
      "source": [
        "def energy_categories(df, energy_type):\n",
        "  categories = []\n",
        "  column = 'Annual ' + energy_type\n",
        "  if energy_type == 'electricty costs':\n",
        "    energy_type = 'electricity'\n",
        "  for i in df[column]:\n",
        "    if i == 9992:\n",
        "      categories.append('Included in electricity payment')\n",
        "    elif i == 9993 or i == 9994:\n",
        "      categories.append('No charge or no ' + energy_type + ' used')\n",
        "    elif i >= 9995 and i <= 9997:\n",
        "      categories.append(energy_type[0].upper() + energy_type[1:] + ' included in rent or in condo fee')\n",
        "    elif i == 9998:\n",
        "      categories.append('No charge/none used/included (unspecified_')\n",
        "    else:\n",
        "      categories.append(energy_type[0].upper() + energy_type[1:] + ' paid separately')\n",
        "  return categories"
      ],
      "execution_count": null,
      "outputs": []
    },
    {
      "cell_type": "code",
      "metadata": {
        "colab": {
          "base_uri": "https://localhost:8080/"
        },
        "id": "_bTNKzP1_N22",
        "outputId": "2b76c7f8-a4d9-4715-855f-e508d6481371"
      },
      "source": [
        "individual_data['Electricity Costs'] = energy_categories(individual_data, 'Electricity Costs')\n",
        "individual_data['Gas Costs'] = energy_categories(individual_data, 'Gas Costs')\n",
        "individual_data['Additional Heating Fuel Costs'] = energy_categories(individual_data, 'Fuel Costs')\n",
        "individual_data.head();"
      ],
      "execution_count": null,
      "outputs": [
        {
          "output_type": "stream",
          "text": [
            "/usr/local/lib/python3.7/dist-packages/ipykernel_launcher.py:1: SettingWithCopyWarning: \n",
            "A value is trying to be set on a copy of a slice from a DataFrame.\n",
            "Try using .loc[row_indexer,col_indexer] = value instead\n",
            "\n",
            "See the caveats in the documentation: https://pandas.pydata.org/pandas-docs/stable/user_guide/indexing.html#returning-a-view-versus-a-copy\n",
            "  \"\"\"Entry point for launching an IPython kernel.\n",
            "/usr/local/lib/python3.7/dist-packages/ipykernel_launcher.py:2: SettingWithCopyWarning: \n",
            "A value is trying to be set on a copy of a slice from a DataFrame.\n",
            "Try using .loc[row_indexer,col_indexer] = value instead\n",
            "\n",
            "See the caveats in the documentation: https://pandas.pydata.org/pandas-docs/stable/user_guide/indexing.html#returning-a-view-versus-a-copy\n",
            "  \n",
            "/usr/local/lib/python3.7/dist-packages/ipykernel_launcher.py:3: SettingWithCopyWarning: \n",
            "A value is trying to be set on a copy of a slice from a DataFrame.\n",
            "Try using .loc[row_indexer,col_indexer] = value instead\n",
            "\n",
            "See the caveats in the documentation: https://pandas.pydata.org/pandas-docs/stable/user_guide/indexing.html#returning-a-view-versus-a-copy\n",
            "  This is separate from the ipykernel package so we can avoid doing imports until\n"
          ],
          "name": "stderr"
        }
      ]
    },
    {
      "cell_type": "code",
      "metadata": {
        "colab": {
          "base_uri": "https://localhost:8080/"
        },
        "id": "2o9vRbSrALv1",
        "outputId": "2ff8d919-c54f-42a8-e073-55faa0a64502"
      },
      "source": [
        "(individual_data['Electricity Costs'].value_counts() / individual_data.shape[0])*100"
      ],
      "execution_count": null,
      "outputs": [
        {
          "output_type": "execute_result",
          "data": {
            "text/plain": [
              "Electricity Costs paid separately                     96.877602\n",
              "Electricity Costs included in rent or in condo fee     2.148747\n",
              "No charge or no Electricity Costs used                 0.973651\n",
              "Name: Electricity Costs, dtype: float64"
            ]
          },
          "metadata": {
            "tags": []
          },
          "execution_count": 41
        }
      ]
    },
    {
      "cell_type": "code",
      "metadata": {
        "colab": {
          "base_uri": "https://localhost:8080/"
        },
        "id": "eb0O5qe0AdRL",
        "outputId": "764640cd-a19e-4832-b663-8894054a4484"
      },
      "source": [
        "(individual_data['Gas Costs'].value_counts() / individual_data.shape[0])*100"
      ],
      "execution_count": null,
      "outputs": [
        {
          "output_type": "execute_result",
          "data": {
            "text/plain": [
              "No charge or no Gas Costs used                48.084929\n",
              "Gas Costs paid separately                     38.506889\n",
              "Included in electricity payment               11.866455\n",
              "Gas Costs included in rent or in condo fee     1.541726\n",
              "Name: Gas Costs, dtype: float64"
            ]
          },
          "metadata": {
            "tags": []
          },
          "execution_count": 42
        }
      ]
    },
    {
      "cell_type": "code",
      "metadata": {
        "colab": {
          "base_uri": "https://localhost:8080/"
        },
        "id": "VwI2_B_4BfgJ",
        "outputId": "8a1a9f56-bc0c-4f50-9196-0c275bdd3a62"
      },
      "source": [
        "(individual_data['Additional Heating Fuel Costs'].value_counts() / individual_data.shape[0])*100"
      ],
      "execution_count": null,
      "outputs": [
        {
          "output_type": "execute_result",
          "data": {
            "text/plain": [
              "No charge or no Fuel Costs used                88.976928\n",
              "Fuel Costs paid separately                     10.569149\n",
              "Fuel Costs included in rent or in condo fee     0.453923\n",
              "Name: Additional Heating Fuel Costs, dtype: float64"
            ]
          },
          "metadata": {
            "tags": []
          },
          "execution_count": 43
        }
      ]
    },
    {
      "cell_type": "markdown",
      "metadata": {
        "id": "Nr7nzC7YWsPl"
      },
      "source": [
        "# **Heating Fuel Cost Ratio**#"
      ]
    },
    {
      "cell_type": "code",
      "metadata": {
        "colab": {
          "base_uri": "https://localhost:8080/"
        },
        "id": "pF0mh90oWy9T",
        "outputId": "975aecea-2b44-4238-d06b-73af1791dc32"
      },
      "source": [
        "fuel_filter = individual_data[individual_data['Annual Fuel Costs'] < 9993]\n",
        "fuel_filter['Heating Fuel Cost Ratio'] = fuel_filter['Annual Fuel Costs'] / fuel_filter['HHINCOME']\n",
        "fuel_filter.head();"
      ],
      "execution_count": null,
      "outputs": [
        {
          "output_type": "stream",
          "text": [
            "/usr/local/lib/python3.7/dist-packages/ipykernel_launcher.py:2: SettingWithCopyWarning: \n",
            "A value is trying to be set on a copy of a slice from a DataFrame.\n",
            "Try using .loc[row_indexer,col_indexer] = value instead\n",
            "\n",
            "See the caveats in the documentation: https://pandas.pydata.org/pandas-docs/stable/user_guide/indexing.html#returning-a-view-versus-a-copy\n",
            "  \n"
          ],
          "name": "stderr"
        }
      ]
    },
    {
      "cell_type": "code",
      "metadata": {
        "id": "mP935KG1YGB4"
      },
      "source": [
        "def fuel_ratio_categories(df):\n",
        "  categories = []\n",
        "  for i in df['Heating Fuel Cost Ratio']:\n",
        "    if i < 0.25:\n",
        "      categories.append('0-25%')\n",
        "    elif i >= 0.25 and i < 0.5:\n",
        "      categories.append('25-50%')\n",
        "    elif i >= 0.5 and i < 0.75:\n",
        "      categories.append('50-75%')\n",
        "    else:\n",
        "      categories.append('>75%')\n",
        "  return categories"
      ],
      "execution_count": null,
      "outputs": []
    },
    {
      "cell_type": "code",
      "metadata": {
        "colab": {
          "base_uri": "https://localhost:8080/"
        },
        "id": "KFbKvuMwYIS7",
        "outputId": "a98b65f5-8d1b-4cd4-85c7-414e4f063244"
      },
      "source": [
        "fuel_filter['Fuel Burden'] = fuel_ratio_categories(fuel_filter)\n",
        "fuel_filter.head();"
      ],
      "execution_count": null,
      "outputs": [
        {
          "output_type": "stream",
          "text": [
            "/usr/local/lib/python3.7/dist-packages/ipykernel_launcher.py:1: SettingWithCopyWarning: \n",
            "A value is trying to be set on a copy of a slice from a DataFrame.\n",
            "Try using .loc[row_indexer,col_indexer] = value instead\n",
            "\n",
            "See the caveats in the documentation: https://pandas.pydata.org/pandas-docs/stable/user_guide/indexing.html#returning-a-view-versus-a-copy\n",
            "  \"\"\"Entry point for launching an IPython kernel.\n"
          ],
          "name": "stderr"
        }
      ]
    },
    {
      "cell_type": "code",
      "metadata": {
        "colab": {
          "base_uri": "https://localhost:8080/"
        },
        "id": "nsBBMiQOYgKb",
        "outputId": "ee2b965e-965f-44f2-e577-48cfe77b6b6c"
      },
      "source": [
        "fuel_income = fuel_filter.pivot_table(index = ['Fuel Burden'], columns = ['Classes'], aggfunc = 'count', fill_value = 0)[['AGE']]\n",
        "fuel_income"
      ],
      "execution_count": null,
      "outputs": [
        {
          "output_type": "execute_result",
          "data": {
            "text/html": [
              "<div>\n",
              "<style scoped>\n",
              "    .dataframe tbody tr th:only-of-type {\n",
              "        vertical-align: middle;\n",
              "    }\n",
              "\n",
              "    .dataframe tbody tr th {\n",
              "        vertical-align: top;\n",
              "    }\n",
              "\n",
              "    .dataframe thead tr th {\n",
              "        text-align: left;\n",
              "    }\n",
              "\n",
              "    .dataframe thead tr:last-of-type th {\n",
              "        text-align: right;\n",
              "    }\n",
              "</style>\n",
              "<table border=\"1\" class=\"dataframe\">\n",
              "  <thead>\n",
              "    <tr>\n",
              "      <th></th>\n",
              "      <th colspan=\"5\" halign=\"left\">AGE</th>\n",
              "    </tr>\n",
              "    <tr>\n",
              "      <th>Classes</th>\n",
              "      <th>Above Median Income</th>\n",
              "      <th>Extremely Low Income</th>\n",
              "      <th>Low Income</th>\n",
              "      <th>Not Low Income</th>\n",
              "      <th>Very Low Income</th>\n",
              "    </tr>\n",
              "    <tr>\n",
              "      <th>Fuel Burden</th>\n",
              "      <th></th>\n",
              "      <th></th>\n",
              "      <th></th>\n",
              "      <th></th>\n",
              "      <th></th>\n",
              "    </tr>\n",
              "  </thead>\n",
              "  <tbody>\n",
              "    <tr>\n",
              "      <th>0-25%</th>\n",
              "      <td>0</td>\n",
              "      <td>383</td>\n",
              "      <td>1188</td>\n",
              "      <td>5695</td>\n",
              "      <td>543</td>\n",
              "    </tr>\n",
              "    <tr>\n",
              "      <th>25-50%</th>\n",
              "      <td>0</td>\n",
              "      <td>15</td>\n",
              "      <td>0</td>\n",
              "      <td>0</td>\n",
              "      <td>0</td>\n",
              "    </tr>\n",
              "    <tr>\n",
              "      <th>50-75%</th>\n",
              "      <td>0</td>\n",
              "      <td>11</td>\n",
              "      <td>0</td>\n",
              "      <td>0</td>\n",
              "      <td>0</td>\n",
              "    </tr>\n",
              "    <tr>\n",
              "      <th>&gt;75%</th>\n",
              "      <td>27</td>\n",
              "      <td>8</td>\n",
              "      <td>0</td>\n",
              "      <td>0</td>\n",
              "      <td>0</td>\n",
              "    </tr>\n",
              "  </tbody>\n",
              "</table>\n",
              "</div>"
            ],
            "text/plain": [
              "                            AGE  ...                \n",
              "Classes     Above Median Income  ... Very Low Income\n",
              "Fuel Burden                      ...                \n",
              "0-25%                         0  ...             543\n",
              "25-50%                        0  ...               0\n",
              "50-75%                        0  ...               0\n",
              ">75%                         27  ...               0\n",
              "\n",
              "[4 rows x 5 columns]"
            ]
          },
          "metadata": {
            "tags": []
          },
          "execution_count": 47
        }
      ]
    },
    {
      "cell_type": "markdown",
      "metadata": {
        "id": "hDrRwXTbGTtZ"
      },
      "source": [
        "# **Rent Burden** "
      ]
    },
    {
      "cell_type": "code",
      "metadata": {
        "id": "7ZLgLfZWYWwn"
      },
      "source": [
        "# define a function that classifies extent of rent burden\n",
        "def rentburden_eval(df):\n",
        "  burdens = []\n",
        "  for i in df['Rent Burden']:\n",
        "    if i > 0.3 and i <= 0.5:\n",
        "      burdens.append('Rent Burdened')\n",
        "    elif i > 0.5:\n",
        "      burdens.append('Extremely Rent Burdened')\n",
        "    elif i <= 0.3:\n",
        "      burdens.append('Not Rent Burdened')\n",
        "    else: \n",
        "      burdens.append('N/A')\n",
        "  return burdens"
      ],
      "execution_count": null,
      "outputs": []
    },
    {
      "cell_type": "code",
      "metadata": {
        "id": "8fVvUSNpZzeV"
      },
      "source": [
        "# since we are only working with rentgrs, we only included rows in which \n",
        "# there were no NaN values as well as no N/A \n",
        "rent_burdens = individual_data[individual_data['Rent Burden'] != 'NaN']\n",
        "rent_burdens['Rent Burden Degree'] = rentburden_eval(rent_burdens)\n",
        "rent_burdens = rent_burdens[rent_burdens['Rent Burden Degree'] != 'N/A']\n",
        "rent_burdens.head();"
      ],
      "execution_count": null,
      "outputs": []
    },
    {
      "cell_type": "code",
      "metadata": {
        "id": "oOxsMAR_fQkT"
      },
      "source": [
        "## 74269\n",
        "rent_burdens['Rent Burden Degree'].value_counts()"
      ],
      "execution_count": null,
      "outputs": []
    },
    {
      "cell_type": "code",
      "metadata": {
        "id": "0wFcPzRxqM8k"
      },
      "source": [
        "(4415+3422)/74269"
      ],
      "execution_count": null,
      "outputs": []
    },
    {
      "cell_type": "code",
      "metadata": {
        "id": "0KvWdSageDN0"
      },
      "source": [
        "rent_burdens1 = rent_burdens.groupby('Rent Burden Degree', as_index = False).size()\n",
        "sns.barplot(x = 'Rent Burden Degree', y = 'size', data = rent_burdens1)\n",
        "plt.title('RENTGRS - Rent Burden Level Counts')\n",
        "plt.xticks(rotation = 45)\n",
        "plt.ylabel('Count');"
      ],
      "execution_count": null,
      "outputs": []
    },
    {
      "cell_type": "code",
      "metadata": {
        "id": "Ef84Lj2GgBhH"
      },
      "source": [
        "levelbyrentburden = rent_burdens.groupby(['Rent Burden Degree','Classes']).size().unstack()\n",
        "levelbyrentburden = levelbyrentburden.plot(kind='bar',stacked=False,legend=True)\n",
        "plt.xticks(rotation = 1)\n",
        "plt.ylabel('Number of Residents')\n",
        "plt.title('Rent Burden Income Status')\n",
        "levelbyrentburden.legend();"
      ],
      "execution_count": null,
      "outputs": []
    },
    {
      "cell_type": "code",
      "metadata": {
        "colab": {
          "background_save": true
        },
        "id": "sHzNfbZWtbaC",
        "outputId": "c3e8dd94-4ff2-4124-c557-47e2369068e0"
      },
      "source": [
        "rent_burdens.groupby(['Rent Burden Degree','Classes']).size()"
      ],
      "execution_count": null,
      "outputs": [
        {
          "output_type": "execute_result",
          "data": {
            "text/plain": [
              "Rent Burden Degree       Classes             \n",
              "Extremely Rent Burdened  Above Median Income       162\n",
              "                         Extremely Low Income     1705\n",
              "                         Low Income                471\n",
              "                         Not Low Income            135\n",
              "                         Very Low Income           949\n",
              "Not Rent Burdened        Extremely Low Income     2436\n",
              "                         Low Income               8940\n",
              "                         Not Low Income          51286\n",
              "                         Very Low Income          3770\n",
              "Rent Burdened            Extremely Low Income      408\n",
              "                         Low Income               1546\n",
              "                         Not Low Income           1321\n",
              "                         Very Low Income          1140\n",
              "dtype: int64"
            ]
          },
          "metadata": {
            "tags": []
          },
          "execution_count": 0
        }
      ]
    },
    {
      "cell_type": "markdown",
      "metadata": {
        "id": "Wcga9yeE4Bfc"
      },
      "source": [
        "## **Metropolitan Analysis**"
      ]
    },
    {
      "cell_type": "code",
      "metadata": {
        "colab": {
          "background_save": true
        },
        "id": "OId8NHjXFbNA"
      },
      "source": [
        "metro_households = individual_data[individual_data['METRO'] == 2]\n",
        "metro_households.head();"
      ],
      "execution_count": null,
      "outputs": []
    },
    {
      "cell_type": "code",
      "metadata": {
        "colab": {
          "background_save": true
        },
        "id": "VJpO5jqB9TNp",
        "outputId": "68626ae5-5c61-4881-e4a8-eead4aef09aa"
      },
      "source": [
        "metro_households.shape"
      ],
      "execution_count": null,
      "outputs": [
        {
          "output_type": "execute_result",
          "data": {
            "text/plain": [
              "(60061, 35)"
            ]
          },
          "metadata": {
            "tags": []
          },
          "execution_count": 0
        }
      ]
    },
    {
      "cell_type": "code",
      "metadata": {
        "colab": {
          "background_save": true
        },
        "id": "1a7CRUR69Rox",
        "outputId": "c0ba4c89-0552-4752-f849-babe43d226dd"
      },
      "source": [
        "# Metro Income Levels\n",
        "(metro_households['Classes'].value_counts() / 60061) * 100"
      ],
      "execution_count": null,
      "outputs": [
        {
          "output_type": "execute_result",
          "data": {
            "text/plain": [
              "Not Low Income          73.471970\n",
              "Low Income              13.774329\n",
              "Very Low Income          6.979571\n",
              "Extremely Low Income     5.329582\n",
              "Above Median Income      0.444548\n",
              "Name: Classes, dtype: float64"
            ]
          },
          "metadata": {
            "tags": []
          },
          "execution_count": 0
        }
      ]
    },
    {
      "cell_type": "code",
      "metadata": {
        "colab": {
          "background_save": true
        },
        "id": "-Ns8QOBD-c4P",
        "outputId": "b81b8b02-12fc-4369-afbc-9b501ff09a8a"
      },
      "source": [
        "# Metro Tenure Levels\n",
        "(metro_households['Tenure'].value_counts() / 60061) * 100"
      ],
      "execution_count": null,
      "outputs": [
        {
          "output_type": "execute_result",
          "data": {
            "text/plain": [
              "Owned     72.141656\n",
              "Rented    27.858344\n",
              "Name: Tenure, dtype: float64"
            ]
          },
          "metadata": {
            "tags": []
          },
          "execution_count": 0
        }
      ]
    },
    {
      "cell_type": "code",
      "metadata": {
        "colab": {
          "background_save": true
        },
        "id": "qoANemLT_8Vt",
        "outputId": "e8df45a7-45d4-4c45-e276-4669f6f3ddd2"
      },
      "source": [
        "# Rent burden in Metro\n",
        "metro_rent_burdens = individual_data[individual_data['METRO'] == 2]\n",
        "metro_rent_burdens = metro_rent_burdens[metro_rent_burdens['Rent Burden'] != 'NaN']\n",
        "metro_rent_burdens['Rent Burden Degree'] = rentburden_eval(metro_rent_burdens)\n",
        "metro_rent_burdens = metro_rent_burdens[metro_rent_burdens['Rent Burden Degree'] != 'N/A']\n",
        "(metro_rent_burdens['Rent Burden Degree'].value_counts()/metro_rent_burdens.shape[0]) * 100"
      ],
      "execution_count": null,
      "outputs": [
        {
          "output_type": "execute_result",
          "data": {
            "text/plain": [
              "Not Rent Burdened          89.006092\n",
              "Rent Burdened               6.282233\n",
              "Extremely Rent Burdened     4.711675\n",
              "Name: Rent Burden Degree, dtype: float64"
            ]
          },
          "metadata": {
            "tags": []
          },
          "execution_count": 0
        }
      ]
    },
    {
      "cell_type": "code",
      "metadata": {
        "colab": {
          "background_save": true
        },
        "id": "ahxSf-3vnMWd",
        "outputId": "816fa62b-08a9-40c7-806d-444bc4d50992"
      },
      "source": [
        "metro_rent_burdens['Energy Cost Burden']"
      ],
      "execution_count": null,
      "outputs": [
        {
          "output_type": "execute_result",
          "data": {
            "text/plain": [
              "880       9.134749\n",
              "881       9.134749\n",
              "915       3.139826\n",
              "916       3.139826\n",
              "917       3.506839\n",
              "           ...    \n",
              "77874    16.281439\n",
              "77875    16.281439\n",
              "77876    14.162407\n",
              "77877    14.162407\n",
              "77878     1.439358\n",
              "Name: Energy Cost Burden, Length: 59915, dtype: float64"
            ]
          },
          "metadata": {
            "tags": []
          },
          "execution_count": 0
        }
      ]
    },
    {
      "cell_type": "code",
      "metadata": {
        "colab": {
          "background_save": true
        },
        "id": "sXHXMJCMEltW",
        "outputId": "fb40aee9-4aa7-4b9d-b116-e7456dda6dd0"
      },
      "source": [
        "# Metro energy levels\n",
        "metro_households['Sum Energy Costs'] = (metro_households['Annual Electricity Costs'] + metro_households['Annual Fuel Costs'] + metro_households['Annual Gas Costs'] + metro_households['Annual Water Costs'])\n",
        "metro_households['Total Energy Cost Burden'] = (metro_households['HHINCOME'] / metro_households['Sum Energy Costs'])\n",
        "metro_households['Rural Energy Burdens Bins'] = energy_burden_bins(metro_households)\n",
        "(metro_households['Rural Energy Burdens Bins'].value_counts() / metro_households.shape[0])*100"
      ],
      "execution_count": null,
      "outputs": [
        {
          "output_type": "stream",
          "text": [
            "/usr/local/lib/python3.7/dist-packages/ipykernel_launcher.py:2: SettingWithCopyWarning: \n",
            "A value is trying to be set on a copy of a slice from a DataFrame.\n",
            "Try using .loc[row_indexer,col_indexer] = value instead\n",
            "\n",
            "See the caveats in the documentation: https://pandas.pydata.org/pandas-docs/stable/user_guide/indexing.html#returning-a-view-versus-a-copy\n",
            "  \n",
            "/usr/local/lib/python3.7/dist-packages/ipykernel_launcher.py:3: SettingWithCopyWarning: \n",
            "A value is trying to be set on a copy of a slice from a DataFrame.\n",
            "Try using .loc[row_indexer,col_indexer] = value instead\n",
            "\n",
            "See the caveats in the documentation: https://pandas.pydata.org/pandas-docs/stable/user_guide/indexing.html#returning-a-view-versus-a-copy\n",
            "  This is separate from the ipykernel package so we can avoid doing imports until\n",
            "/usr/local/lib/python3.7/dist-packages/ipykernel_launcher.py:4: SettingWithCopyWarning: \n",
            "A value is trying to be set on a copy of a slice from a DataFrame.\n",
            "Try using .loc[row_indexer,col_indexer] = value instead\n",
            "\n",
            "See the caveats in the documentation: https://pandas.pydata.org/pandas-docs/stable/user_guide/indexing.html#returning-a-view-versus-a-copy\n",
            "  after removing the cwd from sys.path.\n"
          ],
          "name": "stderr"
        },
        {
          "output_type": "execute_result",
          "data": {
            "text/plain": [
              "> 20 Percent     98.824528\n",
              "0-5 Percent       0.644345\n",
              "10-20 Percent     0.369624\n",
              "5-10 Percent      0.161502\n",
              "Name: Rural Energy Burdens Bins, dtype: float64"
            ]
          },
          "metadata": {
            "tags": []
          },
          "execution_count": 0
        }
      ]
    },
    {
      "cell_type": "code",
      "metadata": {
        "colab": {
          "background_save": true
        },
        "id": "Wzr_olylGzq4",
        "outputId": "1ef455d9-59b8-4eca-febf-8edd14359598"
      },
      "source": [
        "#Metro Income Level counts:\n",
        "#Extremely Low Income     3201\n",
        "#Low Income               8273\n",
        "#Above Median Income       267\n",
        "#Not Low Income          44128\n",
        "#Very Low Income          4192\n",
        "\n",
        "metro_p = metro_households.groupby(['Classes']).size()\n",
        "my_colors = 'rgbky'\n",
        "metro_p.plot(kind = 'bar', color=['blue', 'orange', 'green', 'red', 'purple'])\n",
        "plt.title('Metropolitan Income Statuses')\n",
        "plt.xlabel('Status')\n",
        "plt.ylabel('Number of Residents')\n",
        "plt.xticks(rotation = 45)\n",
        "plt.ylabel('Number of Residents');"
      ],
      "execution_count": null,
      "outputs": [
        {
          "output_type": "display_data",
          "data": {
            "image/png": "[encoded data removed]",
            "text/plain": [
              "<Figure size 432x288 with 1 Axes>"
            ]
          },
          "metadata": {
            "tags": []
          }
        }
      ]
    },
    {
      "cell_type": "code",
      "metadata": {
        "colab": {
          "background_save": true
        },
        "id": "uDC5GXJ4nIhN",
        "outputId": "dd892e4b-68eb-4f41-d54d-eae5fa270217"
      },
      "source": [
        "metro_households.groupby(['Classes']).size()"
      ],
      "execution_count": null,
      "outputs": [
        {
          "output_type": "execute_result",
          "data": {
            "text/plain": [
              "Classes\n",
              "Above Median Income       267\n",
              "Extremely Low Income     3201\n",
              "Low Income               8273\n",
              "Not Low Income          44128\n",
              "Very Low Income          4192\n",
              "dtype: int64"
            ]
          },
          "metadata": {
            "tags": []
          },
          "execution_count": 0
        }
      ]
    },
    {
      "cell_type": "markdown",
      "metadata": {
        "id": "TP6ggFGX33ep"
      },
      "source": [
        "# **Rural Analysis**# "
      ]
    },
    {
      "cell_type": "code",
      "metadata": {
        "colab": {
          "background_save": true
        },
        "id": "p_CFC7_V0lsN"
      },
      "source": [
        "rural_household = individual_data[individual_data['METRO'] == 1]"
      ],
      "execution_count": null,
      "outputs": []
    },
    {
      "cell_type": "code",
      "metadata": {
        "colab": {
          "background_save": true
        },
        "id": "6hbcqg8f0WwC",
        "outputId": "a6d41335-b9dd-4194-edab-cf5bdffd4bfb"
      },
      "source": [
        "(rural_household['Classes'].value_counts() / rural_household.shape[0]) * 100"
      ],
      "execution_count": null,
      "outputs": [
        {
          "output_type": "execute_result",
          "data": {
            "text/plain": [
              "Not Low Income          57.030056\n",
              "Low Income              19.689251\n",
              "Very Low Income         12.913907\n",
              "Extremely Low Income     9.730005\n",
              "Above Median Income      0.636780\n",
              "Name: Classes, dtype: float64"
            ]
          },
          "metadata": {
            "tags": []
          },
          "execution_count": 0
        }
      ]
    },
    {
      "cell_type": "code",
      "metadata": {
        "colab": {
          "background_save": true,
          "base_uri": "https://localhost:8080/"
        },
        "id": "WQ4tc3Ff12xe",
        "outputId": "882d6320-9c0d-4d90-b1d0-05d3547f856a"
      },
      "source": [
        "(rural_household['Tenure'].value_counts() / rural_household.shape[0]) * 100"
      ],
      "execution_count": null,
      "outputs": [
        {
          "output_type": "execute_result",
          "data": {
            "text/plain": [
              "Owned     76.897606\n",
              "Rented    23.102394\n",
              "Name: Tenure, dtype: float64"
            ]
          },
          "metadata": {
            "tags": []
          },
          "execution_count": 0
        }
      ]
    },
    {
      "cell_type": "code",
      "metadata": {
        "colab": {
          "base_uri": "https://localhost:8080/"
        },
        "id": "NU3axIp82pV1",
        "outputId": "f205454d-2e24-44d0-f115-ca971b3b565d"
      },
      "source": [
        "# rural energy breakdown\n",
        "rural_household['Sum Energy Costs'] = (rural_household['Annual Electricity Costs'] + rural_household['Annual Fuel Costs'] + rural_household['Annual Gas Costs'] + rural_household['Annual Water Costs'])\n",
        "rural_household['Total Energy Cost Burden'] = (rural_household['HHINCOME'] / rural_household['Sum Energy Costs'])\n",
        "rural_household['Rural Energy Burdens Bins'] = energy_burden_bins(rural_household)\n",
        "(rural_household['Rural Energy Burdens Bins'].value_counts() / rural_household.shape[0])*100\n",
        "\n"
      ],
      "execution_count": null,
      "outputs": [
        {
          "output_type": "stream",
          "text": [
            "/usr/local/lib/python3.7/dist-packages/ipykernel_launcher.py:2: SettingWithCopyWarning: \n",
            "A value is trying to be set on a copy of a slice from a DataFrame.\n",
            "Try using .loc[row_indexer,col_indexer] = value instead\n",
            "\n",
            "See the caveats in the documentation: https://pandas.pydata.org/pandas-docs/stable/user_guide/indexing.html#returning-a-view-versus-a-copy\n",
            "  \n",
            "/usr/local/lib/python3.7/dist-packages/ipykernel_launcher.py:3: SettingWithCopyWarning: \n",
            "A value is trying to be set on a copy of a slice from a DataFrame.\n",
            "Try using .loc[row_indexer,col_indexer] = value instead\n",
            "\n",
            "See the caveats in the documentation: https://pandas.pydata.org/pandas-docs/stable/user_guide/indexing.html#returning-a-view-versus-a-copy\n",
            "  This is separate from the ipykernel package so we can avoid doing imports until\n",
            "/usr/local/lib/python3.7/dist-packages/ipykernel_launcher.py:4: SettingWithCopyWarning: \n",
            "A value is trying to be set on a copy of a slice from a DataFrame.\n",
            "Try using .loc[row_indexer,col_indexer] = value instead\n",
            "\n",
            "See the caveats in the documentation: https://pandas.pydata.org/pandas-docs/stable/user_guide/indexing.html#returning-a-view-versus-a-copy\n",
            "  after removing the cwd from sys.path.\n"
          ],
          "name": "stderr"
        },
        {
          "output_type": "execute_result",
          "data": {
            "text/plain": [
              "> 20 Percent     97.962303\n",
              "0-5 Percent       1.069791\n",
              "10-20 Percent     0.738665\n",
              "5-10 Percent      0.229241\n",
              "Name: Rural Energy Burdens Bins, dtype: float64"
            ]
          },
          "metadata": {
            "tags": []
          },
          "execution_count": 67
        }
      ]
    },
    {
      "cell_type": "code",
      "metadata": {
        "colab": {
          "base_uri": "https://localhost:8080/"
        },
        "id": "8RJ5mcpg6dHz",
        "outputId": "919daecc-f7bc-49ac-b508-06994df7b651"
      },
      "source": [
        "# rural rent burden levels breakdown\n",
        "rural_household['Rent Burden'] = ((rural_household['RENTGRS'] * 12) /  rural_household['HHINCOME'])\n",
        "rural_rent_burdens = individual_data[individual_data['METRO'] == 1]\n",
        "rural_rent_burdens = rural_rent_burdens[rural_rent_burdens['Rent Burden'] != 'NaN']\n",
        "rural_rent_burdens['Rent Burden Degree'] = rentburden_eval(rural_rent_burdens)\n",
        "rural_rent_burdens = rural_rent_burdens[rural_rent_burdens['Rent Burden Degree'] != 'N/A']\n",
        "(rural_rent_burdens['Rent Burden Degree'].value_counts()/rural_rent_burdens.shape[0]) * 100"
      ],
      "execution_count": null,
      "outputs": [
        {
          "output_type": "stream",
          "text": [
            "/usr/local/lib/python3.7/dist-packages/ipykernel_launcher.py:2: SettingWithCopyWarning: \n",
            "A value is trying to be set on a copy of a slice from a DataFrame.\n",
            "Try using .loc[row_indexer,col_indexer] = value instead\n",
            "\n",
            "See the caveats in the documentation: https://pandas.pydata.org/pandas-docs/stable/user_guide/indexing.html#returning-a-view-versus-a-copy\n",
            "  \n"
          ],
          "name": "stderr"
        },
        {
          "output_type": "execute_result",
          "data": {
            "text/plain": [
              "Not Rent Burdened          92.250639\n",
              "Rent Burdened               4.296675\n",
              "Extremely Rent Burdened     3.452685\n",
              "Name: Rent Burden Degree, dtype: float64"
            ]
          },
          "metadata": {
            "tags": []
          },
          "execution_count": 68
        }
      ]
    },
    {
      "cell_type": "code",
      "metadata": {
        "colab": {
          "base_uri": "https://localhost:8080/",
          "height": 372
        },
        "id": "xBMb8ovlIn2J",
        "outputId": "8a0a00a4-d782-420d-d666-3ff3d27534db"
      },
      "source": [
        "#Rural Income Level counts:\n",
        "#Extremely Low Income     382\n",
        "#Low Income               773\n",
        "#Above Median Income       25\n",
        "#Not Low Income          2239\n",
        "#Very Low Income          507\n",
        "\n",
        "r = rural_household.groupby(['Classes']).size()\n",
        "\n",
        "r.plot(kind = 'bar',color=['blue', 'orange', 'green', 'red', 'purple'])\n",
        "plt.title('Rural Income Statuses')\n",
        "plt.xlabel('Status')\n",
        "plt.xticks(rotation = 45)\n",
        "plt.ylabel('Number of Residents');"
      ],
      "execution_count": null,
      "outputs": [
        {
          "output_type": "display_data",
          "data": {
            "image/png": "[encoded data removed]",
            "text/plain": [
              "<Figure size 432x288 with 1 Axes>"
            ]
          },
          "metadata": {
            "tags": []
          }
        }
      ]
    },
    {
      "cell_type": "code",
      "metadata": {
        "colab": {
          "base_uri": "https://localhost:8080/"
        },
        "id": "wctdzHg0l5is",
        "outputId": "b6794289-c6b6-4683-8276-27c17615631d"
      },
      "source": [
        "rural_household.groupby(['Classes']).size()"
      ],
      "execution_count": null,
      "outputs": [
        {
          "output_type": "execute_result",
          "data": {
            "text/plain": [
              "Classes\n",
              "Above Median Income       25\n",
              "Extremely Low Income     382\n",
              "Low Income               773\n",
              "Not Low Income          2239\n",
              "Very Low Income          507\n",
              "dtype: int64"
            ]
          },
          "metadata": {
            "tags": []
          },
          "execution_count": 70
        }
      ]
    },
    {
      "cell_type": "markdown",
      "metadata": {
        "id": "L1GiYdj5zXRu"
      },
      "source": [
        "# **County Level Analysis**# "
      ]
    },
    {
      "cell_type": "markdown",
      "metadata": {
        "id": "Wf73TOl75B1o"
      },
      "source": [
        "County AMI data: https://www.deptofnumbers.com/income/washington/whatcom-county/\n",
        "\n",
        "Income class breakdown: https://www.energy.gov/eere/slsc/low-income-community-energy-solutions#:~:text=Energy%20burden%20is%20defined%20as,income%20spent%20on%20energy%20costs "
      ]
    },
    {
      "cell_type": "code",
      "metadata": {
        "id": "qeCycn05ze_E"
      },
      "source": [
        "#[\"N/A\", \"King\", \"Spokane\", \"Pierce\", \"Clark\", \"Snohomish\", \"Kitsap\", \"Yakima\", \"Thurston\", \"Whatcom\"]\n",
        "\n",
        "def county_median_evaluator(df):\n",
        "  medians = []\n",
        "  for i in df['County Names']:\n",
        "      if i == 'King':\n",
        "          medians.append(128694)\n",
        "      elif i == 'Spokane':\n",
        "          medians.append(59974)\n",
        "      elif i == 'Pierce':\n",
        "          medians.append(79243)\n",
        "      elif i == 'Clark':\n",
        "          medians.append(80555)\n",
        "      elif i == 'Snohomish':\n",
        "          medians.append(89260)\n",
        "      elif i == 'Kitsap':\n",
        "          medians.append(79624)\n",
        "      elif i == 'Yakima':\n",
        "          medians.append(56233)\n",
        "      elif i == 'Thurston':\n",
        "          medians.append(78512)\n",
        "      else:\n",
        "          medians.append(69372)\n",
        "  return medians"
      ],
      "execution_count": null,
      "outputs": []
    },
    {
      "cell_type": "code",
      "metadata": {
        "id": "6XACJMNB5RwN"
      },
      "source": [
        "def county_level_evaluator(df):\n",
        "  levels = []\n",
        "  for i in df['Income vs AMI prop']:\n",
        "      if i > 0 and i < 0.3:\n",
        "          levels.append('Extremely Low Income')\n",
        "      elif i >= 0.3 and i < 0.5:\n",
        "          levels.append('Very Low Income')\n",
        "      elif i >= 0.5 and i < 0.8:\n",
        "          levels.append('Low Income')\n",
        "      elif i >= 0.8:\n",
        "          levels.append('Not Low Income')\n",
        "      else:\n",
        "          levels.append('Above Median Income')\n",
        "  return levels"
      ],
      "execution_count": null,
      "outputs": []
    },
    {
      "cell_type": "code",
      "metadata": {
        "colab": {
          "base_uri": "https://localhost:8080/",
          "height": 742
        },
        "id": "sSchvWd7z-U-",
        "outputId": "6dc4c7c6-199a-4b39-9490-08c7f658ca41"
      },
      "source": [
        "#County AMI level breakdown:\n",
        "#Not Low Income          38198\n",
        "#Low Income               8508\n",
        "#Very Low Income          4738\n",
        "#Extremely Low Income     4183\n",
        "#Above Median Income       247\n",
        "\n",
        "counties = household_data[household_data['County Names'] != 'N/A']\n",
        "counties['County AMI'] = county_median_evaluator(counties)\n",
        "counties['Income vs AMI prop'] = (counties['HHINCOME'] / counties['County AMI'])\n",
        "counties['County Household Levels'] = county_level_evaluator(counties)\n",
        "counties.drop(columns = ['Classes','County AMI', 'Income vs AMI prop'], inplace = True)\n",
        "counties.head()"
      ],
      "execution_count": null,
      "outputs": [
        {
          "output_type": "stream",
          "text": [
            "/usr/local/lib/python3.7/dist-packages/ipykernel_launcher.py:9: SettingWithCopyWarning: \n",
            "A value is trying to be set on a copy of a slice from a DataFrame.\n",
            "Try using .loc[row_indexer,col_indexer] = value instead\n",
            "\n",
            "See the caveats in the documentation: https://pandas.pydata.org/pandas-docs/stable/user_guide/indexing.html#returning-a-view-versus-a-copy\n",
            "  if __name__ == '__main__':\n",
            "/usr/local/lib/python3.7/dist-packages/ipykernel_launcher.py:10: SettingWithCopyWarning: \n",
            "A value is trying to be set on a copy of a slice from a DataFrame.\n",
            "Try using .loc[row_indexer,col_indexer] = value instead\n",
            "\n",
            "See the caveats in the documentation: https://pandas.pydata.org/pandas-docs/stable/user_guide/indexing.html#returning-a-view-versus-a-copy\n",
            "  # Remove the CWD from sys.path while we load stuff.\n",
            "/usr/local/lib/python3.7/dist-packages/ipykernel_launcher.py:11: SettingWithCopyWarning: \n",
            "A value is trying to be set on a copy of a slice from a DataFrame.\n",
            "Try using .loc[row_indexer,col_indexer] = value instead\n",
            "\n",
            "See the caveats in the documentation: https://pandas.pydata.org/pandas-docs/stable/user_guide/indexing.html#returning-a-view-versus-a-copy\n",
            "  # This is added back by InteractiveShellApp.init_path()\n",
            "/usr/local/lib/python3.7/dist-packages/pandas/core/frame.py:4174: SettingWithCopyWarning: \n",
            "A value is trying to be set on a copy of a slice from a DataFrame\n",
            "\n",
            "See the caveats in the documentation: https://pandas.pydata.org/pandas-docs/stable/user_guide/indexing.html#returning-a-view-versus-a-copy\n",
            "  errors=errors,\n"
          ],
          "name": "stderr"
        },
        {
          "output_type": "execute_result",
          "data": {
            "text/html": [
              "<div>\n",
              "<style scoped>\n",
              "    .dataframe tbody tr th:only-of-type {\n",
              "        vertical-align: middle;\n",
              "    }\n",
              "\n",
              "    .dataframe tbody tr th {\n",
              "        vertical-align: top;\n",
              "    }\n",
              "\n",
              "    .dataframe thead th {\n",
              "        text-align: right;\n",
              "    }\n",
              "</style>\n",
              "<table border=\"1\" class=\"dataframe\">\n",
              "  <thead>\n",
              "    <tr style=\"text-align: right;\">\n",
              "      <th></th>\n",
              "      <th>METRO</th>\n",
              "      <th>SERIAL</th>\n",
              "      <th>RENTGRS</th>\n",
              "      <th>FAMSIZE</th>\n",
              "      <th>County Names</th>\n",
              "      <th>Climate Zones</th>\n",
              "      <th>Tenure</th>\n",
              "      <th>Annual Electricity Costs</th>\n",
              "      <th>Annual Gas Costs</th>\n",
              "      <th>Annual Water Costs</th>\n",
              "      <th>Annual Fuel Costs</th>\n",
              "      <th>HHINCOME</th>\n",
              "      <th>HHWT</th>\n",
              "      <th>NFAMS</th>\n",
              "      <th>Meets Income Threshold</th>\n",
              "      <th>Total Energy Costs</th>\n",
              "      <th>[WEIGHTED] Energy Spend</th>\n",
              "      <th>[WEIGHTED] Household Occupancy</th>\n",
              "      <th>[WEIGHTED] Gas Spend</th>\n",
              "      <th>Poverty</th>\n",
              "      <th>County Household Levels</th>\n",
              "    </tr>\n",
              "  </thead>\n",
              "  <tbody>\n",
              "    <tr>\n",
              "      <th>20379</th>\n",
              "      <td>2</td>\n",
              "      <td>1359290</td>\n",
              "      <td>0</td>\n",
              "      <td>1</td>\n",
              "      <td>King</td>\n",
              "      <td>Northwest</td>\n",
              "      <td>Owned</td>\n",
              "      <td>360</td>\n",
              "      <td>240</td>\n",
              "      <td>9997</td>\n",
              "      <td>9993</td>\n",
              "      <td>135000</td>\n",
              "      <td>102.0</td>\n",
              "      <td>1</td>\n",
              "      <td>True</td>\n",
              "      <td>20590</td>\n",
              "      <td>2100180.0</td>\n",
              "      <td>102.0</td>\n",
              "      <td>24480.0</td>\n",
              "      <td>False</td>\n",
              "      <td>Not Low Income</td>\n",
              "    </tr>\n",
              "    <tr>\n",
              "      <th>20380</th>\n",
              "      <td>2</td>\n",
              "      <td>1359292</td>\n",
              "      <td>0</td>\n",
              "      <td>3</td>\n",
              "      <td>King</td>\n",
              "      <td>Northwest</td>\n",
              "      <td>Owned</td>\n",
              "      <td>1800</td>\n",
              "      <td>480</td>\n",
              "      <td>690</td>\n",
              "      <td>9993</td>\n",
              "      <td>94940</td>\n",
              "      <td>446.0</td>\n",
              "      <td>1</td>\n",
              "      <td>True</td>\n",
              "      <td>12963</td>\n",
              "      <td>5781498.0</td>\n",
              "      <td>1338.0</td>\n",
              "      <td>214080.0</td>\n",
              "      <td>False</td>\n",
              "      <td>Low Income</td>\n",
              "    </tr>\n",
              "    <tr>\n",
              "      <th>20381</th>\n",
              "      <td>2</td>\n",
              "      <td>1359292</td>\n",
              "      <td>0</td>\n",
              "      <td>3</td>\n",
              "      <td>King</td>\n",
              "      <td>Northwest</td>\n",
              "      <td>Owned</td>\n",
              "      <td>1800</td>\n",
              "      <td>480</td>\n",
              "      <td>690</td>\n",
              "      <td>9993</td>\n",
              "      <td>94940</td>\n",
              "      <td>446.0</td>\n",
              "      <td>1</td>\n",
              "      <td>True</td>\n",
              "      <td>12963</td>\n",
              "      <td>5781498.0</td>\n",
              "      <td>1338.0</td>\n",
              "      <td>214080.0</td>\n",
              "      <td>False</td>\n",
              "      <td>Low Income</td>\n",
              "    </tr>\n",
              "    <tr>\n",
              "      <th>20382</th>\n",
              "      <td>2</td>\n",
              "      <td>1359292</td>\n",
              "      <td>0</td>\n",
              "      <td>3</td>\n",
              "      <td>King</td>\n",
              "      <td>Northwest</td>\n",
              "      <td>Owned</td>\n",
              "      <td>1800</td>\n",
              "      <td>480</td>\n",
              "      <td>690</td>\n",
              "      <td>9993</td>\n",
              "      <td>94940</td>\n",
              "      <td>446.0</td>\n",
              "      <td>1</td>\n",
              "      <td>True</td>\n",
              "      <td>12963</td>\n",
              "      <td>5781498.0</td>\n",
              "      <td>1338.0</td>\n",
              "      <td>214080.0</td>\n",
              "      <td>False</td>\n",
              "      <td>Low Income</td>\n",
              "    </tr>\n",
              "    <tr>\n",
              "      <th>20383</th>\n",
              "      <td>2</td>\n",
              "      <td>1359294</td>\n",
              "      <td>0</td>\n",
              "      <td>2</td>\n",
              "      <td>King</td>\n",
              "      <td>Northwest</td>\n",
              "      <td>Owned</td>\n",
              "      <td>2400</td>\n",
              "      <td>9992</td>\n",
              "      <td>1200</td>\n",
              "      <td>9993</td>\n",
              "      <td>93500</td>\n",
              "      <td>117.0</td>\n",
              "      <td>1</td>\n",
              "      <td>True</td>\n",
              "      <td>23585</td>\n",
              "      <td>2759445.0</td>\n",
              "      <td>234.0</td>\n",
              "      <td>1169064.0</td>\n",
              "      <td>False</td>\n",
              "      <td>Low Income</td>\n",
              "    </tr>\n",
              "  </tbody>\n",
              "</table>\n",
              "</div>"
            ],
            "text/plain": [
              "      METRO   SERIAL  ...  Poverty  County Household Levels\n",
              "20379     2  1359290  ...    False           Not Low Income\n",
              "20380     2  1359292  ...    False               Low Income\n",
              "20381     2  1359292  ...    False               Low Income\n",
              "20382     2  1359292  ...    False               Low Income\n",
              "20383     2  1359294  ...    False               Low Income\n",
              "\n",
              "[5 rows x 21 columns]"
            ]
          },
          "metadata": {
            "tags": []
          },
          "execution_count": 73
        }
      ]
    },
    {
      "cell_type": "code",
      "metadata": {
        "colab": {
          "base_uri": "https://localhost:8080/",
          "height": 365
        },
        "id": "cj3bK-Gt6IKE",
        "outputId": "74357db0-f36f-4a2a-e544-24b3a86059e8"
      },
      "source": [
        "county_median_breakdown = counties.groupby('County Household Levels', as_index = False).size()\n",
        "sns.barplot(x = 'County Household Levels', y = 'size', data = county_median_breakdown)\n",
        "plt.title('County Income Statuses')\n",
        "plt.xlabel('Status')\n",
        "plt.ylabel('Total Residents');\n",
        "plt.xticks(rotation = 40);"
      ],
      "execution_count": null,
      "outputs": [
        {
          "output_type": "display_data",
          "data": {
            "image/png": "[encoded data removed]",
            "text/plain": [
              "<Figure size 432x288 with 1 Axes>"
            ]
          },
          "metadata": {
            "tags": []
          }
        }
      ]
    },
    {
      "cell_type": "code",
      "metadata": {
        "colab": {
          "base_uri": "https://localhost:8080/",
          "height": 202
        },
        "id": "nNByGX6lh98n",
        "outputId": "abc9f123-3eab-4d5c-dc00-cb15bdb4a0b8"
      },
      "source": [
        "county_median_breakdown = counties.groupby('County Household Levels', as_index = False).size()\n",
        "county_median_breakdown"
      ],
      "execution_count": null,
      "outputs": [
        {
          "output_type": "execute_result",
          "data": {
            "text/html": [
              "<div>\n",
              "<style scoped>\n",
              "    .dataframe tbody tr th:only-of-type {\n",
              "        vertical-align: middle;\n",
              "    }\n",
              "\n",
              "    .dataframe tbody tr th {\n",
              "        vertical-align: top;\n",
              "    }\n",
              "\n",
              "    .dataframe thead th {\n",
              "        text-align: right;\n",
              "    }\n",
              "</style>\n",
              "<table border=\"1\" class=\"dataframe\">\n",
              "  <thead>\n",
              "    <tr style=\"text-align: right;\">\n",
              "      <th></th>\n",
              "      <th>County Household Levels</th>\n",
              "      <th>size</th>\n",
              "    </tr>\n",
              "  </thead>\n",
              "  <tbody>\n",
              "    <tr>\n",
              "      <th>0</th>\n",
              "      <td>Above Median Income</td>\n",
              "      <td>247</td>\n",
              "    </tr>\n",
              "    <tr>\n",
              "      <th>1</th>\n",
              "      <td>Extremely Low Income</td>\n",
              "      <td>4183</td>\n",
              "    </tr>\n",
              "    <tr>\n",
              "      <th>2</th>\n",
              "      <td>Low Income</td>\n",
              "      <td>8508</td>\n",
              "    </tr>\n",
              "    <tr>\n",
              "      <th>3</th>\n",
              "      <td>Not Low Income</td>\n",
              "      <td>38198</td>\n",
              "    </tr>\n",
              "    <tr>\n",
              "      <th>4</th>\n",
              "      <td>Very Low Income</td>\n",
              "      <td>4738</td>\n",
              "    </tr>\n",
              "  </tbody>\n",
              "</table>\n",
              "</div>"
            ],
            "text/plain": [
              "  County Household Levels   size\n",
              "0     Above Median Income    247\n",
              "1    Extremely Low Income   4183\n",
              "2              Low Income   8508\n",
              "3          Not Low Income  38198\n",
              "4         Very Low Income   4738"
            ]
          },
          "metadata": {
            "tags": []
          },
          "execution_count": 75
        }
      ]
    },
    {
      "cell_type": "code",
      "metadata": {
        "colab": {
          "base_uri": "https://localhost:8080/",
          "height": 265
        },
        "id": "z4cI23zNMN7p",
        "outputId": "d76f926c-2507-437d-901c-fa8a652a3544"
      },
      "source": [
        "countybasis = counties.groupby(['County Names','County Household Levels']).size().unstack()\n",
        "countybasis = countybasis.plot(kind='barh',stacked=True,legend=True)\n",
        "countybasis.legend();"
      ],
      "execution_count": null,
      "outputs": [
        {
          "output_type": "display_data",
          "data": {
            "image/png": "[encoded data removed]",
            "text/plain": [
              "<Figure size 432x288 with 1 Axes>"
            ]
          },
          "metadata": {
            "tags": []
          }
        }
      ]
    },
    {
      "cell_type": "markdown",
      "metadata": {
        "id": "aCSFVbrR4X2C"
      },
      "source": [
        "# **Family Size - Multi/Single**# "
      ]
    },
    {
      "cell_type": "code",
      "metadata": {
        "id": "dlqXUglX4p0I"
      },
      "source": [
        "def famtype(df):\n",
        "  types = []\n",
        "  for num in df['NFAMS']:\n",
        "    if num == 1:\n",
        "      types.append('Single Family')\n",
        "    else:\n",
        "      types.append('Multi-Family')\n",
        "  return types "
      ],
      "execution_count": null,
      "outputs": []
    },
    {
      "cell_type": "code",
      "metadata": {
        "colab": {
          "base_uri": "https://localhost:8080/",
          "height": 447
        },
        "id": "sWGOB5ZVpXb4",
        "outputId": "311c2184-2835-4af7-c71b-ab5362844a4b"
      },
      "source": [
        "household_data['Building Type'] = famtype(household_data)\n",
        "household_data.head()"
      ],
      "execution_count": null,
      "outputs": [
        {
          "output_type": "stream",
          "text": [
            "/usr/local/lib/python3.7/dist-packages/ipykernel_launcher.py:1: SettingWithCopyWarning: \n",
            "A value is trying to be set on a copy of a slice from a DataFrame.\n",
            "Try using .loc[row_indexer,col_indexer] = value instead\n",
            "\n",
            "See the caveats in the documentation: https://pandas.pydata.org/pandas-docs/stable/user_guide/indexing.html#returning-a-view-versus-a-copy\n",
            "  \"\"\"Entry point for launching an IPython kernel.\n"
          ],
          "name": "stderr"
        },
        {
          "output_type": "execute_result",
          "data": {
            "text/html": [
              "<div>\n",
              "<style scoped>\n",
              "    .dataframe tbody tr th:only-of-type {\n",
              "        vertical-align: middle;\n",
              "    }\n",
              "\n",
              "    .dataframe tbody tr th {\n",
              "        vertical-align: top;\n",
              "    }\n",
              "\n",
              "    .dataframe thead th {\n",
              "        text-align: right;\n",
              "    }\n",
              "</style>\n",
              "<table border=\"1\" class=\"dataframe\">\n",
              "  <thead>\n",
              "    <tr style=\"text-align: right;\">\n",
              "      <th></th>\n",
              "      <th>METRO</th>\n",
              "      <th>SERIAL</th>\n",
              "      <th>RENTGRS</th>\n",
              "      <th>FAMSIZE</th>\n",
              "      <th>County Names</th>\n",
              "      <th>Climate Zones</th>\n",
              "      <th>Tenure</th>\n",
              "      <th>Annual Electricity Costs</th>\n",
              "      <th>Annual Gas Costs</th>\n",
              "      <th>Annual Water Costs</th>\n",
              "      <th>Annual Fuel Costs</th>\n",
              "      <th>HHINCOME</th>\n",
              "      <th>HHWT</th>\n",
              "      <th>NFAMS</th>\n",
              "      <th>Meets Income Threshold</th>\n",
              "      <th>Total Energy Costs</th>\n",
              "      <th>[WEIGHTED] Energy Spend</th>\n",
              "      <th>[WEIGHTED] Household Occupancy</th>\n",
              "      <th>[WEIGHTED] Gas Spend</th>\n",
              "      <th>Poverty</th>\n",
              "      <th>Classes</th>\n",
              "      <th>Building Type</th>\n",
              "    </tr>\n",
              "  </thead>\n",
              "  <tbody>\n",
              "    <tr>\n",
              "      <th>877</th>\n",
              "      <td>0</td>\n",
              "      <td>1359289</td>\n",
              "      <td>0</td>\n",
              "      <td>2</td>\n",
              "      <td>N/A</td>\n",
              "      <td>N/A</td>\n",
              "      <td>Owned</td>\n",
              "      <td>960</td>\n",
              "      <td>9993</td>\n",
              "      <td>900</td>\n",
              "      <td>9993</td>\n",
              "      <td>56600</td>\n",
              "      <td>71.0</td>\n",
              "      <td>1</td>\n",
              "      <td>False</td>\n",
              "      <td>21846</td>\n",
              "      <td>1551066.0</td>\n",
              "      <td>142.0</td>\n",
              "      <td>709503.0</td>\n",
              "      <td>False</td>\n",
              "      <td>Not Low Income</td>\n",
              "      <td>Single Family</td>\n",
              "    </tr>\n",
              "    <tr>\n",
              "      <th>878</th>\n",
              "      <td>0</td>\n",
              "      <td>1359289</td>\n",
              "      <td>0</td>\n",
              "      <td>2</td>\n",
              "      <td>N/A</td>\n",
              "      <td>N/A</td>\n",
              "      <td>Owned</td>\n",
              "      <td>960</td>\n",
              "      <td>9993</td>\n",
              "      <td>900</td>\n",
              "      <td>9993</td>\n",
              "      <td>56600</td>\n",
              "      <td>71.0</td>\n",
              "      <td>1</td>\n",
              "      <td>False</td>\n",
              "      <td>21846</td>\n",
              "      <td>1551066.0</td>\n",
              "      <td>142.0</td>\n",
              "      <td>709503.0</td>\n",
              "      <td>False</td>\n",
              "      <td>Not Low Income</td>\n",
              "      <td>Single Family</td>\n",
              "    </tr>\n",
              "    <tr>\n",
              "      <th>879</th>\n",
              "      <td>0</td>\n",
              "      <td>1359291</td>\n",
              "      <td>0</td>\n",
              "      <td>1</td>\n",
              "      <td>N/A</td>\n",
              "      <td>N/A</td>\n",
              "      <td>Owned</td>\n",
              "      <td>1080</td>\n",
              "      <td>9993</td>\n",
              "      <td>300</td>\n",
              "      <td>200</td>\n",
              "      <td>70000</td>\n",
              "      <td>66.0</td>\n",
              "      <td>1</td>\n",
              "      <td>True</td>\n",
              "      <td>11573</td>\n",
              "      <td>763818.0</td>\n",
              "      <td>66.0</td>\n",
              "      <td>659538.0</td>\n",
              "      <td>False</td>\n",
              "      <td>Not Low Income</td>\n",
              "      <td>Single Family</td>\n",
              "    </tr>\n",
              "    <tr>\n",
              "      <th>880</th>\n",
              "      <td>2</td>\n",
              "      <td>1359298</td>\n",
              "      <td>0</td>\n",
              "      <td>2</td>\n",
              "      <td>N/A</td>\n",
              "      <td>N/A</td>\n",
              "      <td>Owned</td>\n",
              "      <td>480</td>\n",
              "      <td>9993</td>\n",
              "      <td>1100</td>\n",
              "      <td>9993</td>\n",
              "      <td>197000</td>\n",
              "      <td>66.0</td>\n",
              "      <td>1</td>\n",
              "      <td>True</td>\n",
              "      <td>21566</td>\n",
              "      <td>1423356.0</td>\n",
              "      <td>132.0</td>\n",
              "      <td>659538.0</td>\n",
              "      <td>False</td>\n",
              "      <td>Not Low Income</td>\n",
              "      <td>Single Family</td>\n",
              "    </tr>\n",
              "    <tr>\n",
              "      <th>881</th>\n",
              "      <td>2</td>\n",
              "      <td>1359298</td>\n",
              "      <td>0</td>\n",
              "      <td>2</td>\n",
              "      <td>N/A</td>\n",
              "      <td>N/A</td>\n",
              "      <td>Owned</td>\n",
              "      <td>480</td>\n",
              "      <td>9993</td>\n",
              "      <td>1100</td>\n",
              "      <td>9993</td>\n",
              "      <td>197000</td>\n",
              "      <td>66.0</td>\n",
              "      <td>1</td>\n",
              "      <td>True</td>\n",
              "      <td>21566</td>\n",
              "      <td>1423356.0</td>\n",
              "      <td>132.0</td>\n",
              "      <td>659538.0</td>\n",
              "      <td>False</td>\n",
              "      <td>Not Low Income</td>\n",
              "      <td>Single Family</td>\n",
              "    </tr>\n",
              "  </tbody>\n",
              "</table>\n",
              "</div>"
            ],
            "text/plain": [
              "    METRO   SERIAL  RENTGRS  ...  Poverty         Classes  Building Type\n",
              "877     0  1359289        0  ...    False  Not Low Income  Single Family\n",
              "878     0  1359289        0  ...    False  Not Low Income  Single Family\n",
              "879     0  1359291        0  ...    False  Not Low Income  Single Family\n",
              "880     2  1359298        0  ...    False  Not Low Income  Single Family\n",
              "881     2  1359298        0  ...    False  Not Low Income  Single Family\n",
              "\n",
              "[5 rows x 22 columns]"
            ]
          },
          "metadata": {
            "tags": []
          },
          "execution_count": 78
        }
      ]
    },
    {
      "cell_type": "code",
      "metadata": {
        "colab": {
          "base_uri": "https://localhost:8080/"
        },
        "id": "_GIUCVl3qxgK",
        "outputId": "6c28c02d-ee85-42f9-beb9-fed603f9a93d"
      },
      "source": [
        "household_data['Building Type'].value_counts()"
      ],
      "execution_count": null,
      "outputs": [
        {
          "output_type": "execute_result",
          "data": {
            "text/plain": [
              "Single Family    67894\n",
              "Multi-Family      6568\n",
              "Name: Building Type, dtype: int64"
            ]
          },
          "metadata": {
            "tags": []
          },
          "execution_count": 79
        }
      ]
    },
    {
      "cell_type": "code",
      "metadata": {
        "colab": {
          "base_uri": "https://localhost:8080/",
          "height": 296
        },
        "id": "EliekMRy7wig",
        "outputId": "36a34b06-26bf-4ab3-c7b1-7ab65ecaaace"
      },
      "source": [
        "buildingstypes = household_data.groupby(['Building Type','Classes']).size().unstack()\n",
        "buildingstypes = buildingstypes.plot(kind='bar',stacked=False,legend=True)\n",
        "plt.title('Income Status of Building Types')\n",
        "plt.ylabel('Number of Residents')\n",
        "plt.xticks(rotation = 1)\n",
        "buildingstypes.legend();"
      ],
      "execution_count": null,
      "outputs": [
        {
          "output_type": "display_data",
          "data": {
            "image/png": "[encoded data removed]",
            "text/plain": [
              "<Figure size 432x288 with 1 Axes>"
            ]
          },
          "metadata": {
            "tags": []
          }
        }
      ]
    },
    {
      "cell_type": "code",
      "metadata": {
        "colab": {
          "base_uri": "https://localhost:8080/"
        },
        "id": "558C029r9Unq",
        "outputId": "13bb1f31-60ce-4459-ce6c-b06dade3896c"
      },
      "source": [
        "household_data.groupby(['Building Type','Classes']).size()"
      ],
      "execution_count": null,
      "outputs": [
        {
          "output_type": "execute_result",
          "data": {
            "text/plain": [
              "Building Type  Classes             \n",
              "Multi-Family   Above Median Income         9\n",
              "               Extremely Low Income      246\n",
              "               Low Income                699\n",
              "               Not Low Income           5367\n",
              "               Very Low Income           247\n",
              "Single Family  Above Median Income       346\n",
              "               Extremely Low Income     4303\n",
              "               Low Income              10258\n",
              "               Not Low Income          47375\n",
              "               Very Low Income          5612\n",
              "dtype: int64"
            ]
          },
          "metadata": {
            "tags": []
          },
          "execution_count": 81
        }
      ]
    },
    {
      "cell_type": "code",
      "metadata": {
        "colab": {
          "base_uri": "https://localhost:8080/",
          "height": 296
        },
        "id": "vr0HPJA_-YVl",
        "outputId": "784d32bd-d036-40bf-b2c8-fc057d6edd97"
      },
      "source": [
        "buildingstypes = household_data.groupby(['Building Type','Tenure']).size().unstack()\n",
        "buildingstypes = buildingstypes.plot(kind='bar',stacked=False,legend=True)\n",
        "plt.title('Tenure Status of Building Types')\n",
        "plt.ylabel('Number of Residents')\n",
        "plt.xticks(rotation = 1)\n",
        "buildingstypes.legend();"
      ],
      "execution_count": null,
      "outputs": [
        {
          "output_type": "display_data",
          "data": {
            "image/png": "[encoded data removed]",
            "text/plain": [
              "<Figure size 432x288 with 1 Axes>"
            ]
          },
          "metadata": {
            "tags": []
          }
        }
      ]
    },
    {
      "cell_type": "code",
      "metadata": {
        "colab": {
          "base_uri": "https://localhost:8080/"
        },
        "id": "Aej8SSfiSu0I",
        "outputId": "26a011f0-e2b1-4b7a-e8f4-8d596e915ea7"
      },
      "source": [
        "household_data.groupby(['Building Type','Tenure']).size()"
      ],
      "execution_count": null,
      "outputs": [
        {
          "output_type": "execute_result",
          "data": {
            "text/plain": [
              "Building Type  Tenure\n",
              "Multi-Family   Owned      3834\n",
              "               Rented     2734\n",
              "Single Family  Owned     50397\n",
              "               Rented    17497\n",
              "dtype: int64"
            ]
          },
          "metadata": {
            "tags": []
          },
          "execution_count": 83
        }
      ]
    },
    {
      "cell_type": "markdown",
      "metadata": {
        "id": "S3eh8vse09_q"
      },
      "source": [
        "# **Lower Income Analysis**#"
      ]
    },
    {
      "cell_type": "code",
      "metadata": {
        "colab": {
          "base_uri": "https://localhost:8080/",
          "height": 811
        },
        "id": "h_8d10NT7YwN",
        "outputId": "81e41d73-e357-4e4d-ed0b-66a6ca1242bb"
      },
      "source": [
        "low_incomes = individual_data[(individual_data['Classes'] != 'Above Median Income') & (individual_data['Classes'] != 'Not Low Income')]\n",
        "low_incomes.head()"
      ],
      "execution_count": null,
      "outputs": [
        {
          "output_type": "execute_result",
          "data": {
            "text/html": [
              "<div>\n",
              "<style scoped>\n",
              "    .dataframe tbody tr th:only-of-type {\n",
              "        vertical-align: middle;\n",
              "    }\n",
              "\n",
              "    .dataframe tbody tr th {\n",
              "        vertical-align: top;\n",
              "    }\n",
              "\n",
              "    .dataframe thead th {\n",
              "        text-align: right;\n",
              "    }\n",
              "</style>\n",
              "<table border=\"1\" class=\"dataframe\">\n",
              "  <thead>\n",
              "    <tr style=\"text-align: right;\">\n",
              "      <th></th>\n",
              "      <th>YEAR</th>\n",
              "      <th>FAMSIZE</th>\n",
              "      <th>METRO</th>\n",
              "      <th>SERIAL</th>\n",
              "      <th>HHWT</th>\n",
              "      <th>HHTYPE</th>\n",
              "      <th>County ICPs</th>\n",
              "      <th>AGE</th>\n",
              "      <th>County Names</th>\n",
              "      <th>Climate Zones</th>\n",
              "      <th>STRATA</th>\n",
              "      <th>GQ</th>\n",
              "      <th>Tenure</th>\n",
              "      <th>OWNERSHPD</th>\n",
              "      <th>RENTGRS</th>\n",
              "      <th>Annual Electricity Costs</th>\n",
              "      <th>Annual Gas Costs</th>\n",
              "      <th>Annual Water Costs</th>\n",
              "      <th>Annual Fuel Costs</th>\n",
              "      <th>HHINCOME</th>\n",
              "      <th>PERNUM</th>\n",
              "      <th>PERWT</th>\n",
              "      <th>NFAMS</th>\n",
              "      <th>Sum Energy Costs</th>\n",
              "      <th>Energy Cost Burden</th>\n",
              "      <th>Heating Fuel Cost</th>\n",
              "      <th>Rent Burden</th>\n",
              "      <th>Heating Fuel Cost Burden</th>\n",
              "      <th>Fuel as % of Total Energy</th>\n",
              "      <th>Meets Income Threshold</th>\n",
              "      <th>Classes</th>\n",
              "      <th>Energy Burdens Bins</th>\n",
              "      <th>Electricity Costs</th>\n",
              "      <th>Gas Costs</th>\n",
              "      <th>Additional Heating Fuel Costs</th>\n",
              "    </tr>\n",
              "  </thead>\n",
              "  <tbody>\n",
              "    <tr>\n",
              "      <th>884</th>\n",
              "      <td>2019</td>\n",
              "      <td>4</td>\n",
              "      <td>0</td>\n",
              "      <td>1359305</td>\n",
              "      <td>25.0</td>\n",
              "      <td>1</td>\n",
              "      <td>0</td>\n",
              "      <td>27</td>\n",
              "      <td>N/A</td>\n",
              "      <td>N/A</td>\n",
              "      <td>1020053</td>\n",
              "      <td>1</td>\n",
              "      <td>Rented</td>\n",
              "      <td>22</td>\n",
              "      <td>1400</td>\n",
              "      <td>9997</td>\n",
              "      <td>9997</td>\n",
              "      <td>9997</td>\n",
              "      <td>9993</td>\n",
              "      <td>67000</td>\n",
              "      <td>1</td>\n",
              "      <td>25.0</td>\n",
              "      <td>1</td>\n",
              "      <td>39984</td>\n",
              "      <td>1.675670</td>\n",
              "      <td>19990</td>\n",
              "      <td>0.250746</td>\n",
              "      <td>3.351676</td>\n",
              "      <td>2.0002</td>\n",
              "      <td>False</td>\n",
              "      <td>Low Income</td>\n",
              "      <td>&gt; 20 Percent</td>\n",
              "      <td>Electricity Costs included in rent or in condo...</td>\n",
              "      <td>Gas Costs included in rent or in condo fee</td>\n",
              "      <td>No charge or no Fuel Costs used</td>\n",
              "    </tr>\n",
              "    <tr>\n",
              "      <th>885</th>\n",
              "      <td>2019</td>\n",
              "      <td>4</td>\n",
              "      <td>0</td>\n",
              "      <td>1359305</td>\n",
              "      <td>25.0</td>\n",
              "      <td>1</td>\n",
              "      <td>0</td>\n",
              "      <td>31</td>\n",
              "      <td>N/A</td>\n",
              "      <td>N/A</td>\n",
              "      <td>1020053</td>\n",
              "      <td>1</td>\n",
              "      <td>Rented</td>\n",
              "      <td>22</td>\n",
              "      <td>1400</td>\n",
              "      <td>9997</td>\n",
              "      <td>9997</td>\n",
              "      <td>9997</td>\n",
              "      <td>9993</td>\n",
              "      <td>67000</td>\n",
              "      <td>2</td>\n",
              "      <td>26.0</td>\n",
              "      <td>1</td>\n",
              "      <td>39984</td>\n",
              "      <td>1.675670</td>\n",
              "      <td>19990</td>\n",
              "      <td>0.250746</td>\n",
              "      <td>3.351676</td>\n",
              "      <td>2.0002</td>\n",
              "      <td>False</td>\n",
              "      <td>Low Income</td>\n",
              "      <td>&gt; 20 Percent</td>\n",
              "      <td>Electricity Costs included in rent or in condo...</td>\n",
              "      <td>Gas Costs included in rent or in condo fee</td>\n",
              "      <td>No charge or no Fuel Costs used</td>\n",
              "    </tr>\n",
              "    <tr>\n",
              "      <th>886</th>\n",
              "      <td>2019</td>\n",
              "      <td>4</td>\n",
              "      <td>0</td>\n",
              "      <td>1359305</td>\n",
              "      <td>25.0</td>\n",
              "      <td>1</td>\n",
              "      <td>0</td>\n",
              "      <td>1</td>\n",
              "      <td>N/A</td>\n",
              "      <td>N/A</td>\n",
              "      <td>1020053</td>\n",
              "      <td>1</td>\n",
              "      <td>Rented</td>\n",
              "      <td>22</td>\n",
              "      <td>1400</td>\n",
              "      <td>9997</td>\n",
              "      <td>9997</td>\n",
              "      <td>9997</td>\n",
              "      <td>9993</td>\n",
              "      <td>67000</td>\n",
              "      <td>3</td>\n",
              "      <td>21.0</td>\n",
              "      <td>1</td>\n",
              "      <td>39984</td>\n",
              "      <td>1.675670</td>\n",
              "      <td>19990</td>\n",
              "      <td>0.250746</td>\n",
              "      <td>3.351676</td>\n",
              "      <td>2.0002</td>\n",
              "      <td>False</td>\n",
              "      <td>Low Income</td>\n",
              "      <td>&gt; 20 Percent</td>\n",
              "      <td>Electricity Costs included in rent or in condo...</td>\n",
              "      <td>Gas Costs included in rent or in condo fee</td>\n",
              "      <td>No charge or no Fuel Costs used</td>\n",
              "    </tr>\n",
              "    <tr>\n",
              "      <th>887</th>\n",
              "      <td>2019</td>\n",
              "      <td>4</td>\n",
              "      <td>0</td>\n",
              "      <td>1359305</td>\n",
              "      <td>25.0</td>\n",
              "      <td>1</td>\n",
              "      <td>0</td>\n",
              "      <td>10</td>\n",
              "      <td>N/A</td>\n",
              "      <td>N/A</td>\n",
              "      <td>1020053</td>\n",
              "      <td>1</td>\n",
              "      <td>Rented</td>\n",
              "      <td>22</td>\n",
              "      <td>1400</td>\n",
              "      <td>9997</td>\n",
              "      <td>9997</td>\n",
              "      <td>9997</td>\n",
              "      <td>9993</td>\n",
              "      <td>67000</td>\n",
              "      <td>4</td>\n",
              "      <td>18.0</td>\n",
              "      <td>1</td>\n",
              "      <td>39984</td>\n",
              "      <td>1.675670</td>\n",
              "      <td>19990</td>\n",
              "      <td>0.250746</td>\n",
              "      <td>3.351676</td>\n",
              "      <td>2.0002</td>\n",
              "      <td>False</td>\n",
              "      <td>Low Income</td>\n",
              "      <td>&gt; 20 Percent</td>\n",
              "      <td>Electricity Costs included in rent or in condo...</td>\n",
              "      <td>Gas Costs included in rent or in condo fee</td>\n",
              "      <td>No charge or no Fuel Costs used</td>\n",
              "    </tr>\n",
              "    <tr>\n",
              "      <th>888</th>\n",
              "      <td>2019</td>\n",
              "      <td>1</td>\n",
              "      <td>1</td>\n",
              "      <td>1359306</td>\n",
              "      <td>49.0</td>\n",
              "      <td>6</td>\n",
              "      <td>0</td>\n",
              "      <td>62</td>\n",
              "      <td>N/A</td>\n",
              "      <td>N/A</td>\n",
              "      <td>1080053</td>\n",
              "      <td>1</td>\n",
              "      <td>Rented</td>\n",
              "      <td>22</td>\n",
              "      <td>220</td>\n",
              "      <td>9997</td>\n",
              "      <td>9997</td>\n",
              "      <td>9997</td>\n",
              "      <td>9997</td>\n",
              "      <td>8800</td>\n",
              "      <td>1</td>\n",
              "      <td>50.0</td>\n",
              "      <td>1</td>\n",
              "      <td>39988</td>\n",
              "      <td>0.220066</td>\n",
              "      <td>19994</td>\n",
              "      <td>0.300000</td>\n",
              "      <td>0.440132</td>\n",
              "      <td>2.0000</td>\n",
              "      <td>False</td>\n",
              "      <td>Extremely Low Income</td>\n",
              "      <td>&gt; 20 Percent</td>\n",
              "      <td>Electricity Costs included in rent or in condo...</td>\n",
              "      <td>Gas Costs included in rent or in condo fee</td>\n",
              "      <td>Fuel Costs included in rent or in condo fee</td>\n",
              "    </tr>\n",
              "  </tbody>\n",
              "</table>\n",
              "</div>"
            ],
            "text/plain": [
              "     YEAR  ...                Additional Heating Fuel Costs\n",
              "884  2019  ...              No charge or no Fuel Costs used\n",
              "885  2019  ...              No charge or no Fuel Costs used\n",
              "886  2019  ...              No charge or no Fuel Costs used\n",
              "887  2019  ...              No charge or no Fuel Costs used\n",
              "888  2019  ...  Fuel Costs included in rent or in condo fee\n",
              "\n",
              "[5 rows x 35 columns]"
            ]
          },
          "metadata": {
            "tags": []
          },
          "execution_count": 84
        }
      ]
    },
    {
      "cell_type": "code",
      "metadata": {
        "colab": {
          "base_uri": "https://localhost:8080/"
        },
        "id": "MY68cgtw8jX8",
        "outputId": "36e7c28c-bfb5-4340-f5fb-a465ac3b8d25"
      },
      "source": [
        "(low_incomes['Electricity Costs'].value_counts() / low_incomes.shape[0])*100"
      ],
      "execution_count": null,
      "outputs": [
        {
          "output_type": "execute_result",
          "data": {
            "text/plain": [
              "Electricity Costs paid separately                     93.990171\n",
              "Electricity Costs included in rent or in condo fee     4.249941\n",
              "No charge or no Electricity Costs used                 1.759888\n",
              "Name: Electricity Costs, dtype: float64"
            ]
          },
          "metadata": {
            "tags": []
          },
          "execution_count": 85
        }
      ]
    },
    {
      "cell_type": "code",
      "metadata": {
        "colab": {
          "base_uri": "https://localhost:8080/"
        },
        "id": "BrENQlpr_FGl",
        "outputId": "f04ec71a-0089-44fd-b449-59f5d293639f"
      },
      "source": [
        "(low_incomes['Gas Costs'].value_counts() / low_incomes.shape[0])*100"
      ],
      "execution_count": null,
      "outputs": [
        {
          "output_type": "execute_result",
          "data": {
            "text/plain": [
              "No charge or no Gas Costs used                62.939387\n",
              "Gas Costs paid separately                     26.931898\n",
              "Included in electricity payment                7.868008\n",
              "Gas Costs included in rent or in condo fee     2.260707\n",
              "Name: Gas Costs, dtype: float64"
            ]
          },
          "metadata": {
            "tags": []
          },
          "execution_count": 86
        }
      ]
    },
    {
      "cell_type": "code",
      "metadata": {
        "colab": {
          "base_uri": "https://localhost:8080/"
        },
        "id": "7NXX0KeJ_Fts",
        "outputId": "64a4dea9-074a-4b4d-b320-e762c2ac7e73"
      },
      "source": [
        "(low_incomes['Additional Heating Fuel Costs'].value_counts() / low_incomes.shape[0])*100"
      ],
      "execution_count": null,
      "outputs": [
        {
          "output_type": "execute_result",
          "data": {
            "text/plain": [
              "No charge or no Fuel Costs used                89.230049\n",
              "Fuel Costs paid separately                     10.053826\n",
              "Fuel Costs included in rent or in condo fee     0.716125\n",
              "Name: Additional Heating Fuel Costs, dtype: float64"
            ]
          },
          "metadata": {
            "tags": []
          },
          "execution_count": 87
        }
      ]
    },
    {
      "cell_type": "code",
      "metadata": {
        "id": "Xt1iwd97bWkm"
      },
      "source": [
        "rural_low_incomes = low_incomes[low_incomes['METRO']==1]\n",
        "rural_low_incomes.head();"
      ],
      "execution_count": null,
      "outputs": []
    },
    {
      "cell_type": "code",
      "metadata": {
        "colab": {
          "base_uri": "https://localhost:8080/"
        },
        "id": "--SgdDcLbhKI",
        "outputId": "2869d9b2-de31-451a-9761-f46c6ce6d950"
      },
      "source": [
        "(rural_low_incomes['Electricity Costs'].value_counts() / rural_low_incomes.shape[0])*100"
      ],
      "execution_count": null,
      "outputs": [
        {
          "output_type": "execute_result",
          "data": {
            "text/plain": [
              "Electricity Costs paid separately                     94.223827\n",
              "Electricity Costs included in rent or in condo fee     3.971119\n",
              "No charge or no Electricity Costs used                 1.805054\n",
              "Name: Electricity Costs, dtype: float64"
            ]
          },
          "metadata": {
            "tags": []
          },
          "execution_count": 89
        }
      ]
    },
    {
      "cell_type": "code",
      "metadata": {
        "colab": {
          "base_uri": "https://localhost:8080/"
        },
        "id": "9yNCu7bvbmQE",
        "outputId": "377472ba-c28d-4734-a900-4d12fe2aa972"
      },
      "source": [
        "(rural_low_incomes['Gas Costs'].value_counts() / rural_low_incomes.shape[0])*100"
      ],
      "execution_count": null,
      "outputs": [
        {
          "output_type": "execute_result",
          "data": {
            "text/plain": [
              "No charge or no Gas Costs used                85.078219\n",
              "Gas Costs paid separately                     11.131167\n",
              "Included in electricity payment                1.985560\n",
              "Gas Costs included in rent or in condo fee     1.805054\n",
              "Name: Gas Costs, dtype: float64"
            ]
          },
          "metadata": {
            "tags": []
          },
          "execution_count": 90
        }
      ]
    },
    {
      "cell_type": "code",
      "metadata": {
        "colab": {
          "base_uri": "https://localhost:8080/"
        },
        "id": "hFV5W4ecbrc_",
        "outputId": "6feacd38-18c6-4927-cde1-43691aab3f81"
      },
      "source": [
        "(rural_low_incomes['Additional Heating Fuel Costs'].value_counts() / rural_low_incomes.shape[0])*100"
      ],
      "execution_count": null,
      "outputs": [
        {
          "output_type": "execute_result",
          "data": {
            "text/plain": [
              "No charge or no Fuel Costs used                85.499398\n",
              "Fuel Costs paid separately                     14.019254\n",
              "Fuel Costs included in rent or in condo fee     0.481348\n",
              "Name: Additional Heating Fuel Costs, dtype: float64"
            ]
          },
          "metadata": {
            "tags": []
          },
          "execution_count": 91
        }
      ]
    },
    {
      "cell_type": "code",
      "metadata": {
        "id": "fdAswL-nbwAw"
      },
      "source": [
        "metro_low_incomes = low_incomes[low_incomes['METRO'] == 2]\n",
        "metro_low_incomes.head();"
      ],
      "execution_count": null,
      "outputs": []
    },
    {
      "cell_type": "code",
      "metadata": {
        "colab": {
          "base_uri": "https://localhost:8080/"
        },
        "id": "OxsYt_1mcv2V",
        "outputId": "357988b3-33f6-45d2-998b-0ff86e27d76d"
      },
      "source": [
        "(metro_low_incomes['Electricity Costs'].value_counts() / metro_low_incomes.shape[0])*100"
      ],
      "execution_count": null,
      "outputs": [
        {
          "output_type": "execute_result",
          "data": {
            "text/plain": [
              "Electricity Costs paid separately                     93.974212\n",
              "Electricity Costs included in rent or in condo fee     4.385293\n",
              "No charge or no Electricity Costs used                 1.640495\n",
              "Name: Electricity Costs, dtype: float64"
            ]
          },
          "metadata": {
            "tags": []
          },
          "execution_count": 93
        }
      ]
    },
    {
      "cell_type": "code",
      "metadata": {
        "colab": {
          "base_uri": "https://localhost:8080/"
        },
        "id": "33yfmD1Yc4jh",
        "outputId": "e76392c9-2905-474b-ccf0-fa21c81ad8b8"
      },
      "source": [
        "(metro_low_incomes['Gas Costs'].value_counts() / metro_low_incomes.shape[0])*100"
      ],
      "execution_count": null,
      "outputs": [
        {
          "output_type": "execute_result",
          "data": {
            "text/plain": [
              "No charge or no Gas Costs used                59.351462\n",
              "Gas Costs paid separately                     28.928891\n",
              "Included in electricity payment                9.338695\n",
              "Gas Costs included in rent or in condo fee     2.380952\n",
              "Name: Gas Costs, dtype: float64"
            ]
          },
          "metadata": {
            "tags": []
          },
          "execution_count": 94
        }
      ]
    },
    {
      "cell_type": "code",
      "metadata": {
        "colab": {
          "base_uri": "https://localhost:8080/"
        },
        "id": "V1GzpqWbc8il",
        "outputId": "fe9656ee-3dbe-4c45-e724-f5f4b8818c71"
      },
      "source": [
        "(metro_low_incomes['Additional Heating Fuel Costs'].value_counts() / metro_low_incomes.shape[0])*100"
      ],
      "execution_count": null,
      "outputs": [
        {
          "output_type": "execute_result",
          "data": {
            "text/plain": [
              "No charge or no Fuel Costs used                91.503894\n",
              "Fuel Costs paid separately                      7.736499\n",
              "Fuel Costs included in rent or in condo fee     0.759607\n",
              "Name: Additional Heating Fuel Costs, dtype: float64"
            ]
          },
          "metadata": {
            "tags": []
          },
          "execution_count": 95
        }
      ]
    },
    {
      "cell_type": "code",
      "metadata": {
        "id": "aXSb-ZFUdBrq"
      },
      "source": [
        ""
      ],
      "execution_count": null,
      "outputs": []
    }
  ]
}